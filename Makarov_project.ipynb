{
 "cells": [
  {
   "cell_type": "markdown",
   "metadata": {},
   "source": [
    "## Вариант 1. Проект e-commerce"
   ]
  },
  {
   "cell_type": "code",
   "execution_count": 1,
   "metadata": {},
   "outputs": [],
   "source": [
    "import pandas as pd\n",
    "import numpy as np\n",
    "\n",
    "import pingouin as pg\n",
    "\n",
    "from datetime import timedelta\n",
    "from operator import attrgetter\n",
    "\n",
    "from dateutil import relativedelta\n",
    "\n",
    "import matplotlib.pyplot as plt\n",
    "import seaborn as sns"
   ]
  },
  {
   "cell_type": "code",
   "execution_count": 68,
   "metadata": {},
   "outputs": [],
   "source": [
    "sns.set(\n",
    "    font_scale = 2,\n",
    "    style      ='whitegrid',\n",
    "    rc         ={'figure.figsize':(20,7)}\n",
    ")"
   ]
  },
  {
   "cell_type": "markdown",
   "metadata": {},
   "source": [
    "Загрузим все датафреймы в юпитерхаб"
   ]
  },
  {
   "cell_type": "code",
   "execution_count": 69,
   "metadata": {
    "scrolled": false
   },
   "outputs": [],
   "source": [
    "customers = pd.read_csv('/mnt/HC_Volume_18315164/home-jupyter/jupyter-an-makarov/first_project/andrei_makarov_15.07_andreymakarovs@mail.ru/variant1/olist_customers_dataset.csv')"
   ]
  },
  {
   "cell_type": "code",
   "execution_count": 70,
   "metadata": {},
   "outputs": [],
   "source": [
    "orders = pd.read_csv('/mnt/HC_Volume_18315164/home-jupyter/jupyter-an-makarov/first_project/andrei_makarov_15.07_andreymakarovs@mail.ru/variant1/olist_orders_dataset.csv')"
   ]
  },
  {
   "cell_type": "code",
   "execution_count": 71,
   "metadata": {},
   "outputs": [
    {
     "data": {
      "text/html": [
       "<div>\n",
       "<style scoped>\n",
       "    .dataframe tbody tr th:only-of-type {\n",
       "        vertical-align: middle;\n",
       "    }\n",
       "\n",
       "    .dataframe tbody tr th {\n",
       "        vertical-align: top;\n",
       "    }\n",
       "\n",
       "    .dataframe thead th {\n",
       "        text-align: right;\n",
       "    }\n",
       "</style>\n",
       "<table border=\"1\" class=\"dataframe\">\n",
       "  <thead>\n",
       "    <tr style=\"text-align: right;\">\n",
       "      <th></th>\n",
       "      <th>order_id</th>\n",
       "      <th>customer_id</th>\n",
       "      <th>order_status</th>\n",
       "      <th>order_purchase_timestamp</th>\n",
       "      <th>order_approved_at</th>\n",
       "      <th>order_delivered_carrier_date</th>\n",
       "      <th>order_delivered_customer_date</th>\n",
       "      <th>order_estimated_delivery_date</th>\n",
       "    </tr>\n",
       "  </thead>\n",
       "  <tbody>\n",
       "    <tr>\n",
       "      <th>0</th>\n",
       "      <td>e481f51cbdc54678b7cc49136f2d6af7</td>\n",
       "      <td>9ef432eb6251297304e76186b10a928d</td>\n",
       "      <td>delivered</td>\n",
       "      <td>2017-10-02 10:56:33</td>\n",
       "      <td>2017-10-02 11:07:15</td>\n",
       "      <td>2017-10-04 19:55:00</td>\n",
       "      <td>2017-10-10 21:25:13</td>\n",
       "      <td>2017-10-18 00:00:00</td>\n",
       "    </tr>\n",
       "    <tr>\n",
       "      <th>1</th>\n",
       "      <td>53cdb2fc8bc7dce0b6741e2150273451</td>\n",
       "      <td>b0830fb4747a6c6d20dea0b8c802d7ef</td>\n",
       "      <td>delivered</td>\n",
       "      <td>2018-07-24 20:41:37</td>\n",
       "      <td>2018-07-26 03:24:27</td>\n",
       "      <td>2018-07-26 14:31:00</td>\n",
       "      <td>2018-08-07 15:27:45</td>\n",
       "      <td>2018-08-13 00:00:00</td>\n",
       "    </tr>\n",
       "    <tr>\n",
       "      <th>2</th>\n",
       "      <td>47770eb9100c2d0c44946d9cf07ec65d</td>\n",
       "      <td>41ce2a54c0b03bf3443c3d931a367089</td>\n",
       "      <td>delivered</td>\n",
       "      <td>2018-08-08 08:38:49</td>\n",
       "      <td>2018-08-08 08:55:23</td>\n",
       "      <td>2018-08-08 13:50:00</td>\n",
       "      <td>2018-08-17 18:06:29</td>\n",
       "      <td>2018-09-04 00:00:00</td>\n",
       "    </tr>\n",
       "    <tr>\n",
       "      <th>3</th>\n",
       "      <td>949d5b44dbf5de918fe9c16f97b45f8a</td>\n",
       "      <td>f88197465ea7920adcdbec7375364d82</td>\n",
       "      <td>delivered</td>\n",
       "      <td>2017-11-18 19:28:06</td>\n",
       "      <td>2017-11-18 19:45:59</td>\n",
       "      <td>2017-11-22 13:39:59</td>\n",
       "      <td>2017-12-02 00:28:42</td>\n",
       "      <td>2017-12-15 00:00:00</td>\n",
       "    </tr>\n",
       "    <tr>\n",
       "      <th>4</th>\n",
       "      <td>ad21c59c0840e6cb83a9ceb5573f8159</td>\n",
       "      <td>8ab97904e6daea8866dbdbc4fb7aad2c</td>\n",
       "      <td>delivered</td>\n",
       "      <td>2018-02-13 21:18:39</td>\n",
       "      <td>2018-02-13 22:20:29</td>\n",
       "      <td>2018-02-14 19:46:34</td>\n",
       "      <td>2018-02-16 18:17:02</td>\n",
       "      <td>2018-02-26 00:00:00</td>\n",
       "    </tr>\n",
       "  </tbody>\n",
       "</table>\n",
       "</div>"
      ],
      "text/plain": [
       "                           order_id                       customer_id  \\\n",
       "0  e481f51cbdc54678b7cc49136f2d6af7  9ef432eb6251297304e76186b10a928d   \n",
       "1  53cdb2fc8bc7dce0b6741e2150273451  b0830fb4747a6c6d20dea0b8c802d7ef   \n",
       "2  47770eb9100c2d0c44946d9cf07ec65d  41ce2a54c0b03bf3443c3d931a367089   \n",
       "3  949d5b44dbf5de918fe9c16f97b45f8a  f88197465ea7920adcdbec7375364d82   \n",
       "4  ad21c59c0840e6cb83a9ceb5573f8159  8ab97904e6daea8866dbdbc4fb7aad2c   \n",
       "\n",
       "  order_status order_purchase_timestamp    order_approved_at  \\\n",
       "0    delivered      2017-10-02 10:56:33  2017-10-02 11:07:15   \n",
       "1    delivered      2018-07-24 20:41:37  2018-07-26 03:24:27   \n",
       "2    delivered      2018-08-08 08:38:49  2018-08-08 08:55:23   \n",
       "3    delivered      2017-11-18 19:28:06  2017-11-18 19:45:59   \n",
       "4    delivered      2018-02-13 21:18:39  2018-02-13 22:20:29   \n",
       "\n",
       "  order_delivered_carrier_date order_delivered_customer_date  \\\n",
       "0          2017-10-04 19:55:00           2017-10-10 21:25:13   \n",
       "1          2018-07-26 14:31:00           2018-08-07 15:27:45   \n",
       "2          2018-08-08 13:50:00           2018-08-17 18:06:29   \n",
       "3          2017-11-22 13:39:59           2017-12-02 00:28:42   \n",
       "4          2018-02-14 19:46:34           2018-02-16 18:17:02   \n",
       "\n",
       "  order_estimated_delivery_date  \n",
       "0           2017-10-18 00:00:00  \n",
       "1           2018-08-13 00:00:00  \n",
       "2           2018-09-04 00:00:00  \n",
       "3           2017-12-15 00:00:00  \n",
       "4           2018-02-26 00:00:00  "
      ]
     },
     "execution_count": 71,
     "metadata": {},
     "output_type": "execute_result"
    }
   ],
   "source": [
    "orders.head()"
   ]
  },
  {
   "cell_type": "markdown",
   "metadata": {},
   "source": [
    "Cделаем предобработку данных переведем столбцы с датами object в datetime:\n"
   ]
  },
  {
   "cell_type": "code",
   "execution_count": 72,
   "metadata": {},
   "outputs": [
    {
     "data": {
      "text/plain": [
       "order_id                                 object\n",
       "customer_id                              object\n",
       "order_status                             object\n",
       "order_purchase_timestamp         datetime64[ns]\n",
       "order_approved_at                datetime64[ns]\n",
       "order_delivered_carrier_date     datetime64[ns]\n",
       "order_delivered_customer_date    datetime64[ns]\n",
       "order_estimated_delivery_date    datetime64[ns]\n",
       "dtype: object"
      ]
     },
     "execution_count": 72,
     "metadata": {},
     "output_type": "execute_result"
    }
   ],
   "source": [
    "orders['order_estimated_delivery_date'] = pd.to_datetime(orders['order_estimated_delivery_date'])\n",
    "orders['order_purchase_timestamp'] = pd.to_datetime(orders['order_purchase_timestamp'])\n",
    "orders['order_approved_at'] = pd.to_datetime(orders['order_approved_at'])\n",
    "orders['order_delivered_customer_date'] = pd.to_datetime(orders['order_delivered_customer_date'])\n",
    "orders['order_delivered_carrier_date'] = pd.to_datetime(orders['order_delivered_carrier_date'])\n",
    "orders.dtypes"
   ]
  },
  {
   "cell_type": "code",
   "execution_count": 73,
   "metadata": {
    "scrolled": true
   },
   "outputs": [
    {
     "data": {
      "text/plain": [
       "(99441, 8)"
      ]
     },
     "execution_count": 73,
     "metadata": {},
     "output_type": "execute_result"
    }
   ],
   "source": [
    "orders.shape"
   ]
  },
  {
   "cell_type": "markdown",
   "metadata": {},
   "source": [
    "Соединим таблицы заказов и клиентов"
   ]
  },
  {
   "cell_type": "code",
   "execution_count": 74,
   "metadata": {},
   "outputs": [],
   "source": [
    "ordersID = pd.merge(orders, customers[['customer_id','customer_unique_id']],on='customer_id', how='right') "
   ]
  },
  {
   "cell_type": "markdown",
   "metadata": {},
   "source": [
    "Проверим данные на пустые значения"
   ]
  },
  {
   "cell_type": "code",
   "execution_count": 75,
   "metadata": {},
   "outputs": [
    {
     "data": {
      "text/plain": [
       "order_id                            0\n",
       "customer_id                         0\n",
       "order_status                        0\n",
       "order_purchase_timestamp            0\n",
       "order_approved_at                 160\n",
       "order_delivered_carrier_date     1783\n",
       "order_delivered_customer_date    2965\n",
       "order_estimated_delivery_date       0\n",
       "customer_unique_id                  0\n",
       "dtype: int64"
      ]
     },
     "execution_count": 75,
     "metadata": {},
     "output_type": "execute_result"
    }
   ],
   "source": [
    "ordersID.isna().sum() "
   ]
  },
  {
   "cell_type": "markdown",
   "metadata": {},
   "source": [
    "---"
   ]
  },
  {
   "cell_type": "markdown",
   "metadata": {},
   "source": [
    "## 1 задание"
   ]
  },
  {
   "cell_type": "markdown",
   "metadata": {},
   "source": [
    "Сколько у нас пользователей, которые совершили покупку только один раз? (7 баллов) "
   ]
  },
  {
   "cell_type": "code",
   "execution_count": 76,
   "metadata": {},
   "outputs": [
    {
     "data": {
      "text/plain": [
       "delivered      96478\n",
       "shipped         1107\n",
       "canceled         625\n",
       "unavailable      609\n",
       "invoiced         314\n",
       "processing       301\n",
       "created            5\n",
       "approved           2\n",
       "Name: order_status, dtype: int64"
      ]
     },
     "execution_count": 76,
     "metadata": {},
     "output_type": "execute_result"
    }
   ],
   "source": [
    "# Посмотрим на количество каждого статуса заказов:\n",
    "orders.order_status.value_counts()"
   ]
  },
  {
   "cell_type": "markdown",
   "metadata": {},
   "source": [
    "Если столбец order_approved_at —  время подтверждения оплаты заказа не пустой, значит покупатель оплатил свой заказ \n",
    "и с тех пор он заказ считается покупкой."
   ]
  },
  {
   "cell_type": "code",
   "execution_count": 77,
   "metadata": {},
   "outputs": [
    {
     "data": {
      "text/plain": [
       "array([141,  14,   5])"
      ]
     },
     "execution_count": 77,
     "metadata": {},
     "output_type": "execute_result"
    }
   ],
   "source": [
    "# Посмотрим на пустые значения ячейки order_approved_at\n",
    "ordersID.query('order_approved_at.isna()').order_status.value_counts().unique()"
   ]
  },
  {
   "cell_type": "markdown",
   "metadata": {},
   "source": [
    "Как оказалось клиенты не доходят до процесса оплаты судя по статусу заказа: 'canceled' - 141, 'delivered' - 14, 'created' - 5 "
   ]
  },
  {
   "cell_type": "code",
   "execution_count": 78,
   "metadata": {
    "scrolled": true
   },
   "outputs": [
    {
     "data": {
      "text/html": [
       "<div>\n",
       "<style scoped>\n",
       "    .dataframe tbody tr th:only-of-type {\n",
       "        vertical-align: middle;\n",
       "    }\n",
       "\n",
       "    .dataframe tbody tr th {\n",
       "        vertical-align: top;\n",
       "    }\n",
       "\n",
       "    .dataframe thead th {\n",
       "        text-align: right;\n",
       "    }\n",
       "</style>\n",
       "<table border=\"1\" class=\"dataframe\">\n",
       "  <thead>\n",
       "    <tr style=\"text-align: right;\">\n",
       "      <th></th>\n",
       "      <th>customer_unique_id</th>\n",
       "      <th>order_count</th>\n",
       "    </tr>\n",
       "  </thead>\n",
       "  <tbody>\n",
       "    <tr>\n",
       "      <th>0</th>\n",
       "      <td>0000366f3b9a7992bf8c76cfdf3221e2</td>\n",
       "      <td>1</td>\n",
       "    </tr>\n",
       "    <tr>\n",
       "      <th>1</th>\n",
       "      <td>0000b849f77a49e4a4ce2b2a4ca5be3f</td>\n",
       "      <td>1</td>\n",
       "    </tr>\n",
       "    <tr>\n",
       "      <th>2</th>\n",
       "      <td>0000f46a3911fa3c0805444483337064</td>\n",
       "      <td>1</td>\n",
       "    </tr>\n",
       "    <tr>\n",
       "      <th>3</th>\n",
       "      <td>0000f6ccb0745a6a4b88665a16c9f078</td>\n",
       "      <td>1</td>\n",
       "    </tr>\n",
       "    <tr>\n",
       "      <th>4</th>\n",
       "      <td>0004aac84e0df4da2b147fca70cf8255</td>\n",
       "      <td>1</td>\n",
       "    </tr>\n",
       "    <tr>\n",
       "      <th>...</th>\n",
       "      <td>...</td>\n",
       "      <td>...</td>\n",
       "    </tr>\n",
       "    <tr>\n",
       "      <th>95992</th>\n",
       "      <td>fffcf5a5ff07b0908bd4e2dbc735a684</td>\n",
       "      <td>1</td>\n",
       "    </tr>\n",
       "    <tr>\n",
       "      <th>95993</th>\n",
       "      <td>fffea47cd6d3cc0a88bd621562a9d061</td>\n",
       "      <td>1</td>\n",
       "    </tr>\n",
       "    <tr>\n",
       "      <th>95994</th>\n",
       "      <td>ffff371b4d645b6ecea244b27531430a</td>\n",
       "      <td>1</td>\n",
       "    </tr>\n",
       "    <tr>\n",
       "      <th>95995</th>\n",
       "      <td>ffff5962728ec6157033ef9805bacc48</td>\n",
       "      <td>1</td>\n",
       "    </tr>\n",
       "    <tr>\n",
       "      <th>95996</th>\n",
       "      <td>ffffd2657e2aad2907e67c3e9daecbeb</td>\n",
       "      <td>1</td>\n",
       "    </tr>\n",
       "  </tbody>\n",
       "</table>\n",
       "<p>93049 rows × 2 columns</p>\n",
       "</div>"
      ],
      "text/plain": [
       "                     customer_unique_id  order_count\n",
       "0      0000366f3b9a7992bf8c76cfdf3221e2            1\n",
       "1      0000b849f77a49e4a4ce2b2a4ca5be3f            1\n",
       "2      0000f46a3911fa3c0805444483337064            1\n",
       "3      0000f6ccb0745a6a4b88665a16c9f078            1\n",
       "4      0004aac84e0df4da2b147fca70cf8255            1\n",
       "...                                 ...          ...\n",
       "95992  fffcf5a5ff07b0908bd4e2dbc735a684            1\n",
       "95993  fffea47cd6d3cc0a88bd621562a9d061            1\n",
       "95994  ffff371b4d645b6ecea244b27531430a            1\n",
       "95995  ffff5962728ec6157033ef9805bacc48            1\n",
       "95996  ffffd2657e2aad2907e67c3e9daecbeb            1\n",
       "\n",
       "[93049 rows x 2 columns]"
      ]
     },
     "execution_count": 78,
     "metadata": {},
     "output_type": "execute_result"
    }
   ],
   "source": [
    "# Теперь найдем пользователей которые совершили покупку один раз:\n",
    "ordersID.query('order_approved_at.notna()') \\\n",
    "      .groupby('customer_unique_id', as_index=False) \\\n",
    "      .agg({'order_id':'count'})\\\n",
    "      .rename(columns = {'order_id' : 'order_count'}) \\\n",
    "      .query('order_count == 1')  "
   ]
  },
  {
   "cell_type": "markdown",
   "metadata": {},
   "source": [
    "Итого у нас 93049 покупателей, которые купили только один раз"
   ]
  },
  {
   "cell_type": "markdown",
   "metadata": {},
   "source": [
    "---------------------------------------------------------------------------------"
   ]
  },
  {
   "cell_type": "markdown",
   "metadata": {},
   "source": [
    "## 2 задание"
   ]
  },
  {
   "cell_type": "markdown",
   "metadata": {},
   "source": [
    "Сколько заказов в месяц в среднем не доставляется по разным причинам (вывести детализацию по причинам)? (10 баллов).\n",
    "\n",
    "\n",
    "Для начала определим, что доставка не осуществлена если в строке order_delivered_customer_date пустая."
   ]
  },
  {
   "cell_type": "code",
   "execution_count": 79,
   "metadata": {},
   "outputs": [
    {
     "data": {
      "text/plain": [
       "order_approved_at  order_status\n",
       "2016.0             invoiced         18\n",
       "                   canceled         15\n",
       "                   shipped           9\n",
       "                   unavailable       6\n",
       "                   processing        2\n",
       "2017.0             shipped         530\n",
       "                   unavailable     458\n",
       "                   processing      240\n",
       "                   canceled        211\n",
       "                   invoiced        175\n",
       "                   approved          2\n",
       "                   delivered         2\n",
       "2018.0             shipped         568\n",
       "                   canceled        252\n",
       "                   unavailable     145\n",
       "                   invoiced        121\n",
       "                   processing       59\n",
       "                   delivered         6\n",
       "Name: order_status, dtype: int64"
      ]
     },
     "execution_count": 79,
     "metadata": {},
     "output_type": "execute_result"
    }
   ],
   "source": [
    "#Давайте найдем причины не осуществленной доставки по годам\n",
    "\n",
    "not_delivered = orders.query('order_delivered_customer_date.isna() & order_approved_at.notna()').groupby(orders.order_approved_at.dt.year).order_status.value_counts()\n",
    "\n",
    "not_delivered"
   ]
  },
  {
   "cell_type": "code",
   "execution_count": null,
   "metadata": {},
   "outputs": [],
   "source": []
  },
  {
   "cell_type": "code",
   "execution_count": 80,
   "metadata": {},
   "outputs": [
    {
     "data": {
      "text/plain": [
       "(99281, 8)"
      ]
     },
     "execution_count": 80,
     "metadata": {},
     "output_type": "execute_result"
    }
   ],
   "source": [
    "orders.query('order_approved_at.notna()').shape # количество оплученных заказов"
   ]
  },
  {
   "cell_type": "code",
   "execution_count": 81,
   "metadata": {},
   "outputs": [
    {
     "data": {
      "text/plain": [
       "2819"
      ]
     },
     "execution_count": 81,
     "metadata": {},
     "output_type": "execute_result"
    }
   ],
   "source": [
    "not_delivered.sum() # общее количество не доставленных заказов"
   ]
  },
  {
   "cell_type": "code",
   "execution_count": 82,
   "metadata": {},
   "outputs": [
    {
     "data": {
      "text/plain": [
       "2.8000000000000003"
      ]
     },
     "execution_count": 82,
     "metadata": {},
     "output_type": "execute_result"
    }
   ],
   "source": [
    "round(not_delivered.sum() / 99281,3)*100"
   ]
  },
  {
   "cell_type": "markdown",
   "metadata": {},
   "source": [
    "В общей сложности по тем или иным причинам не доставлено 2819 заказов, что составляет более 2.8% от всех заказов."
   ]
  },
  {
   "cell_type": "code",
   "execution_count": 83,
   "metadata": {},
   "outputs": [
    {
     "data": {
      "text/plain": [
       "min   2016-09-15 12:16:38\n",
       "max   2018-09-03 17:40:06\n",
       "Name: order_approved_at, dtype: datetime64[ns]"
      ]
     },
     "execution_count": 83,
     "metadata": {},
     "output_type": "execute_result"
    }
   ],
   "source": [
    "#Чтобы найти среднее количество не доставленных заказов в месяц сначала найдем количество месяцев в нашем датафрейме между \n",
    "#минимальной и максимальной датой\n",
    "\n",
    "minmax = orders['order_approved_at'].agg(['min', 'max'])\n",
    "\n",
    "minmax"
   ]
  },
  {
   "cell_type": "code",
   "execution_count": 84,
   "metadata": {},
   "outputs": [],
   "source": [
    "# Напишем функцию, которая находит количество месяцев между двумя датами\n",
    "\n",
    "def diff_month(d1, d2):\n",
    "    return (d1.year - d2.year) * 12 + d1.month - d2.month"
   ]
  },
  {
   "cell_type": "code",
   "execution_count": 85,
   "metadata": {},
   "outputs": [
    {
     "name": "stdout",
     "output_type": "stream",
     "text": [
      "24\n"
     ]
    }
   ],
   "source": [
    "# Итого в нашем случае 24 месяца между минимальной и максимальной датой \n",
    "diffs = diff_month(minmax.max(), minmax.min())\n",
    "print(diffs)"
   ]
  },
  {
   "cell_type": "code",
   "execution_count": 86,
   "metadata": {},
   "outputs": [
    {
     "data": {
      "text/plain": [
       "order_approved_at  order_status\n",
       "2016.0             invoiced         0.75\n",
       "                   canceled         0.62\n",
       "                   shipped          0.38\n",
       "                   unavailable      0.25\n",
       "                   processing       0.08\n",
       "2017.0             shipped         22.08\n",
       "                   unavailable     19.08\n",
       "                   processing      10.00\n",
       "                   canceled         8.79\n",
       "                   invoiced         7.29\n",
       "                   approved         0.08\n",
       "                   delivered        0.08\n",
       "2018.0             shipped         23.67\n",
       "                   canceled        10.50\n",
       "                   unavailable      6.04\n",
       "                   invoiced         5.04\n",
       "                   processing       2.46\n",
       "                   delivered        0.25\n",
       "Name: order_status, dtype: float64"
      ]
     },
     "execution_count": 86,
     "metadata": {},
     "output_type": "execute_result"
    }
   ],
   "source": [
    "cancelled_orders_month_mean = not_delivered / 24\n",
    "\n",
    "cancelled_orders_month_mean.round(2)"
   ]
  },
  {
   "cell_type": "markdown",
   "metadata": {},
   "source": [
    "Итого в среднем за месяц за два года не доставляется 117 заказов по тем или иным причинам"
   ]
  },
  {
   "cell_type": "code",
   "execution_count": 87,
   "metadata": {},
   "outputs": [
    {
     "data": {
      "text/plain": [
       "order_status\n",
       "shipped        46.12\n",
       "unavailable    25.38\n",
       "canceled       19.92\n",
       "invoiced       13.08\n",
       "processing     12.54\n",
       "delivered       0.33\n",
       "approved        0.08\n",
       "Name: order_status, dtype: float64"
      ]
     },
     "execution_count": 87,
     "metadata": {},
     "output_type": "execute_result"
    }
   ],
   "source": [
    "not_delivered_all = cancelled_orders_month_mean.groupby('order_status').sum().sort_values(ascending=False)\n",
    "\n",
    "not_delivered_all.round(2)"
   ]
  },
  {
   "cell_type": "code",
   "execution_count": 88,
   "metadata": {},
   "outputs": [
    {
     "data": {
      "text/plain": [
       "<matplotlib.axes._subplots.AxesSubplot at 0x7fcc940d1be0>"
      ]
     },
     "execution_count": 88,
     "metadata": {},
     "output_type": "execute_result"
    },
    {
     "data": {
      "image/png": "[encoded data removed]",
      "text/plain": [
       "<Figure size 1440x504 with 1 Axes>"
      ]
     },
     "metadata": {},
     "output_type": "display_data"
    }
   ],
   "source": [
    "# Построим барплот чтобы нагляднее увидеть причины не доставки в общем\n",
    "\n",
    "not_delivered_all.plot.bar()"
   ]
  },
  {
   "cell_type": "markdown",
   "metadata": {},
   "source": [
    "--------------"
   ]
  },
  {
   "cell_type": "markdown",
   "metadata": {},
   "source": [
    "## 3 задание"
   ]
  },
  {
   "cell_type": "markdown",
   "metadata": {},
   "source": [
    "По каждому товару определить, в какой день недели товар чаще всего покупается."
   ]
  },
  {
   "cell_type": "code",
   "execution_count": 89,
   "metadata": {},
   "outputs": [],
   "source": [
    "# Прочитаем данные\n",
    "items = pd.read_csv('/mnt/HC_Volume_18315164/home-jupyter/jupyter-an-makarov/first_project/andrei_makarov_15.07_andreymakarovs@mail.ru/variant1/olist_order_items_dataset.csv')"
   ]
  },
  {
   "cell_type": "code",
   "execution_count": 90,
   "metadata": {
    "scrolled": false
   },
   "outputs": [],
   "source": [
    "# соединим таблицу items и orders\n",
    "orders_w_i = pd.merge(orders, items[['order_id','product_id','price']],on='order_id', how='left')"
   ]
  },
  {
   "cell_type": "code",
   "execution_count": 91,
   "metadata": {},
   "outputs": [
    {
     "data": {
      "text/plain": [
       "order_id                            0\n",
       "customer_id                         0\n",
       "order_status                        0\n",
       "order_purchase_timestamp            0\n",
       "order_approved_at                 161\n",
       "order_delivered_carrier_date     1968\n",
       "order_delivered_customer_date    3229\n",
       "order_estimated_delivery_date       0\n",
       "product_id                        775\n",
       "price                             775\n",
       "dtype: int64"
      ]
     },
     "execution_count": 91,
     "metadata": {},
     "output_type": "execute_result"
    }
   ],
   "source": [
    "# Посмотрим на пустые значения\n",
    "orders_w_i.isna().sum()"
   ]
  },
  {
   "cell_type": "markdown",
   "metadata": {},
   "source": [
    "Переведем даты в datetime64"
   ]
  },
  {
   "cell_type": "code",
   "execution_count": 92,
   "metadata": {},
   "outputs": [
    {
     "data": {
      "text/plain": [
       "order_id                                 object\n",
       "customer_id                              object\n",
       "order_status                             object\n",
       "order_purchase_timestamp         datetime64[ns]\n",
       "order_approved_at                datetime64[ns]\n",
       "order_delivered_carrier_date     datetime64[ns]\n",
       "order_delivered_customer_date    datetime64[ns]\n",
       "order_estimated_delivery_date    datetime64[ns]\n",
       "product_id                               object\n",
       "price                                   float64\n",
       "dtype: object"
      ]
     },
     "execution_count": 92,
     "metadata": {},
     "output_type": "execute_result"
    }
   ],
   "source": [
    "orders_w_i['order_estimated_delivery_date'] = pd.to_datetime(orders_w_i['order_estimated_delivery_date'])\n",
    "orders_w_i['order_purchase_timestamp'] = pd.to_datetime(orders_w_i['order_purchase_timestamp'])\n",
    "orders_w_i['order_approved_at'] = pd.to_datetime(orders_w_i['order_approved_at'])\n",
    "orders_w_i['order_delivered_customer_date'] = pd.to_datetime(orders_w_i['order_delivered_customer_date'])\n",
    "orders_w_i['order_delivered_carrier_date'] = pd.to_datetime(orders_w_i['order_delivered_carrier_date'])\n",
    "orders_w_i.dtypes"
   ]
  },
  {
   "cell_type": "code",
   "execution_count": 93,
   "metadata": {},
   "outputs": [
    {
     "data": {
      "text/plain": [
       "0       Monday\n",
       "1      Tuesday\n",
       "2    Wednesday\n",
       "3     Saturday\n",
       "4      Tuesday\n",
       "Name: day_of_week_purchase, dtype: object"
      ]
     },
     "execution_count": 93,
     "metadata": {},
     "output_type": "execute_result"
    }
   ],
   "source": [
    "# Создадим колонку с днем сделанного заказа\n",
    "\n",
    "orders_w_i['day_of_week_purchase'] = orders_w_i['order_purchase_timestamp'].dt.day_name() \n",
    "\n",
    "orders_w_i.day_of_week_purchase.head()"
   ]
  },
  {
   "cell_type": "code",
   "execution_count": 94,
   "metadata": {},
   "outputs": [],
   "source": [
    "df = orders_w_i.groupby(['product_id','day_of_week_purchase'],as_index=False).agg({'order_id':'count'}) \\\n",
    "        .pivot(index = 'product_id', columns = 'day_of_week_purchase', values = 'order_id') \\\n"
   ]
  },
  {
   "cell_type": "code",
   "execution_count": 95,
   "metadata": {},
   "outputs": [],
   "source": [
    "df['max_value'] = df.max(axis=1) # Найдем максимальное число заказов в неделю"
   ]
  },
  {
   "cell_type": "code",
   "execution_count": 96,
   "metadata": {},
   "outputs": [],
   "source": [
    "df['day_of_week'] = df.idxmax(axis=1) # Найдем день недели с максимальным значением"
   ]
  },
  {
   "cell_type": "code",
   "execution_count": 97,
   "metadata": {},
   "outputs": [
    {
     "data": {
      "text/html": [
       "<div>\n",
       "<style scoped>\n",
       "    .dataframe tbody tr th:only-of-type {\n",
       "        vertical-align: middle;\n",
       "    }\n",
       "\n",
       "    .dataframe tbody tr th {\n",
       "        vertical-align: top;\n",
       "    }\n",
       "\n",
       "    .dataframe thead th {\n",
       "        text-align: right;\n",
       "    }\n",
       "</style>\n",
       "<table border=\"1\" class=\"dataframe\">\n",
       "  <thead>\n",
       "    <tr style=\"text-align: right;\">\n",
       "      <th>day_of_week_purchase</th>\n",
       "      <th>Friday</th>\n",
       "      <th>Monday</th>\n",
       "      <th>Saturday</th>\n",
       "      <th>Sunday</th>\n",
       "      <th>Thursday</th>\n",
       "      <th>Tuesday</th>\n",
       "      <th>Wednesday</th>\n",
       "      <th>max_value</th>\n",
       "      <th>day_of_week</th>\n",
       "    </tr>\n",
       "    <tr>\n",
       "      <th>product_id</th>\n",
       "      <th></th>\n",
       "      <th></th>\n",
       "      <th></th>\n",
       "      <th></th>\n",
       "      <th></th>\n",
       "      <th></th>\n",
       "      <th></th>\n",
       "      <th></th>\n",
       "      <th></th>\n",
       "    </tr>\n",
       "  </thead>\n",
       "  <tbody>\n",
       "    <tr>\n",
       "      <th>422879e10f46682990de24d770e7f83d</th>\n",
       "      <td>77.0</td>\n",
       "      <td>64.0</td>\n",
       "      <td>57.0</td>\n",
       "      <td>47.0</td>\n",
       "      <td>79.0</td>\n",
       "      <td>67.0</td>\n",
       "      <td>93.0</td>\n",
       "      <td>93.0</td>\n",
       "      <td>Wednesday</td>\n",
       "    </tr>\n",
       "    <tr>\n",
       "      <th>99a4788cb24856965c36a24e339b6058</th>\n",
       "      <td>75.0</td>\n",
       "      <td>92.0</td>\n",
       "      <td>61.0</td>\n",
       "      <td>62.0</td>\n",
       "      <td>73.0</td>\n",
       "      <td>61.0</td>\n",
       "      <td>64.0</td>\n",
       "      <td>92.0</td>\n",
       "      <td>Monday</td>\n",
       "    </tr>\n",
       "    <tr>\n",
       "      <th>aca2eb7d00ea1a7b8ebd4e68314663af</th>\n",
       "      <td>87.0</td>\n",
       "      <td>78.0</td>\n",
       "      <td>59.0</td>\n",
       "      <td>55.0</td>\n",
       "      <td>89.0</td>\n",
       "      <td>85.0</td>\n",
       "      <td>74.0</td>\n",
       "      <td>89.0</td>\n",
       "      <td>Thursday</td>\n",
       "    </tr>\n",
       "    <tr>\n",
       "      <th>53b36df67ebb7c41585e8d54d6772e08</th>\n",
       "      <td>38.0</td>\n",
       "      <td>57.0</td>\n",
       "      <td>29.0</td>\n",
       "      <td>31.0</td>\n",
       "      <td>46.0</td>\n",
       "      <td>76.0</td>\n",
       "      <td>46.0</td>\n",
       "      <td>76.0</td>\n",
       "      <td>Tuesday</td>\n",
       "    </tr>\n",
       "    <tr>\n",
       "      <th>368c6c730842d78016ad823897a372db</th>\n",
       "      <td>67.0</td>\n",
       "      <td>50.0</td>\n",
       "      <td>44.0</td>\n",
       "      <td>54.0</td>\n",
       "      <td>58.0</td>\n",
       "      <td>63.0</td>\n",
       "      <td>52.0</td>\n",
       "      <td>67.0</td>\n",
       "      <td>Friday</td>\n",
       "    </tr>\n",
       "    <tr>\n",
       "      <th>...</th>\n",
       "      <td>...</td>\n",
       "      <td>...</td>\n",
       "      <td>...</td>\n",
       "      <td>...</td>\n",
       "      <td>...</td>\n",
       "      <td>...</td>\n",
       "      <td>...</td>\n",
       "      <td>...</td>\n",
       "      <td>...</td>\n",
       "    </tr>\n",
       "    <tr>\n",
       "      <th>62b07aff118f62756ee579afeedc3eb0</th>\n",
       "      <td>NaN</td>\n",
       "      <td>NaN</td>\n",
       "      <td>NaN</td>\n",
       "      <td>NaN</td>\n",
       "      <td>1.0</td>\n",
       "      <td>NaN</td>\n",
       "      <td>1.0</td>\n",
       "      <td>1.0</td>\n",
       "      <td>Thursday</td>\n",
       "    </tr>\n",
       "    <tr>\n",
       "      <th>62ae6a8f5789aec14529a277c7516def</th>\n",
       "      <td>NaN</td>\n",
       "      <td>NaN</td>\n",
       "      <td>NaN</td>\n",
       "      <td>1.0</td>\n",
       "      <td>NaN</td>\n",
       "      <td>NaN</td>\n",
       "      <td>NaN</td>\n",
       "      <td>1.0</td>\n",
       "      <td>Sunday</td>\n",
       "    </tr>\n",
       "    <tr>\n",
       "      <th>62abef05dddbd149514e4339c84f7d7d</th>\n",
       "      <td>NaN</td>\n",
       "      <td>NaN</td>\n",
       "      <td>NaN</td>\n",
       "      <td>1.0</td>\n",
       "      <td>NaN</td>\n",
       "      <td>NaN</td>\n",
       "      <td>NaN</td>\n",
       "      <td>1.0</td>\n",
       "      <td>Sunday</td>\n",
       "    </tr>\n",
       "    <tr>\n",
       "      <th>62a6991adbb1e60f5c03a77fae5568ff</th>\n",
       "      <td>NaN</td>\n",
       "      <td>1.0</td>\n",
       "      <td>NaN</td>\n",
       "      <td>NaN</td>\n",
       "      <td>NaN</td>\n",
       "      <td>1.0</td>\n",
       "      <td>NaN</td>\n",
       "      <td>1.0</td>\n",
       "      <td>Monday</td>\n",
       "    </tr>\n",
       "    <tr>\n",
       "      <th>fffe9eeff12fcbd74a2f2b007dde0c58</th>\n",
       "      <td>NaN</td>\n",
       "      <td>NaN</td>\n",
       "      <td>NaN</td>\n",
       "      <td>NaN</td>\n",
       "      <td>NaN</td>\n",
       "      <td>NaN</td>\n",
       "      <td>1.0</td>\n",
       "      <td>1.0</td>\n",
       "      <td>Wednesday</td>\n",
       "    </tr>\n",
       "  </tbody>\n",
       "</table>\n",
       "<p>32951 rows × 9 columns</p>\n",
       "</div>"
      ],
      "text/plain": [
       "day_of_week_purchase              Friday  Monday  Saturday  Sunday  Thursday  \\\n",
       "product_id                                                                     \n",
       "422879e10f46682990de24d770e7f83d    77.0    64.0      57.0    47.0      79.0   \n",
       "99a4788cb24856965c36a24e339b6058    75.0    92.0      61.0    62.0      73.0   \n",
       "aca2eb7d00ea1a7b8ebd4e68314663af    87.0    78.0      59.0    55.0      89.0   \n",
       "53b36df67ebb7c41585e8d54d6772e08    38.0    57.0      29.0    31.0      46.0   \n",
       "368c6c730842d78016ad823897a372db    67.0    50.0      44.0    54.0      58.0   \n",
       "...                                  ...     ...       ...     ...       ...   \n",
       "62b07aff118f62756ee579afeedc3eb0     NaN     NaN       NaN     NaN       1.0   \n",
       "62ae6a8f5789aec14529a277c7516def     NaN     NaN       NaN     1.0       NaN   \n",
       "62abef05dddbd149514e4339c84f7d7d     NaN     NaN       NaN     1.0       NaN   \n",
       "62a6991adbb1e60f5c03a77fae5568ff     NaN     1.0       NaN     NaN       NaN   \n",
       "fffe9eeff12fcbd74a2f2b007dde0c58     NaN     NaN       NaN     NaN       NaN   \n",
       "\n",
       "day_of_week_purchase              Tuesday  Wednesday  max_value day_of_week  \n",
       "product_id                                                                   \n",
       "422879e10f46682990de24d770e7f83d     67.0       93.0       93.0   Wednesday  \n",
       "99a4788cb24856965c36a24e339b6058     61.0       64.0       92.0      Monday  \n",
       "aca2eb7d00ea1a7b8ebd4e68314663af     85.0       74.0       89.0    Thursday  \n",
       "53b36df67ebb7c41585e8d54d6772e08     76.0       46.0       76.0     Tuesday  \n",
       "368c6c730842d78016ad823897a372db     63.0       52.0       67.0      Friday  \n",
       "...                                   ...        ...        ...         ...  \n",
       "62b07aff118f62756ee579afeedc3eb0      NaN        1.0        1.0    Thursday  \n",
       "62ae6a8f5789aec14529a277c7516def      NaN        NaN        1.0      Sunday  \n",
       "62abef05dddbd149514e4339c84f7d7d      NaN        NaN        1.0      Sunday  \n",
       "62a6991adbb1e60f5c03a77fae5568ff      1.0        NaN        1.0      Monday  \n",
       "fffe9eeff12fcbd74a2f2b007dde0c58      NaN        1.0        1.0   Wednesday  \n",
       "\n",
       "[32951 rows x 9 columns]"
      ]
     },
     "execution_count": 97,
     "metadata": {},
     "output_type": "execute_result"
    }
   ],
   "source": [
    "df.sort_values('max_value',ascending=False)"
   ]
  },
  {
   "cell_type": "markdown",
   "metadata": {},
   "source": [
    "Как видно из таблицы сверху у некоторых товаров имеются день недели с большим количеством заказов"
   ]
  },
  {
   "cell_type": "markdown",
   "metadata": {},
   "source": [
    "------"
   ]
  },
  {
   "cell_type": "markdown",
   "metadata": {},
   "source": [
    "## 4 задание"
   ]
  },
  {
   "cell_type": "markdown",
   "metadata": {},
   "source": [
    "Сколько у каждого из пользователей в среднем покупок в неделю (по месяцам)? Не стоит забывать, что внутри месяца может \n",
    "быть не целое количество недель. Например, в ноябре 2021 года 4,28 недели. И внутри метрики это нужно учесть. (8 баллов) "
   ]
  },
  {
   "cell_type": "code",
   "execution_count": 98,
   "metadata": {},
   "outputs": [
    {
     "data": {
      "text/plain": [
       "order_id                                 object\n",
       "customer_id                              object\n",
       "order_status                             object\n",
       "order_purchase_timestamp         datetime64[ns]\n",
       "order_approved_at                datetime64[ns]\n",
       "order_delivered_carrier_date     datetime64[ns]\n",
       "order_delivered_customer_date    datetime64[ns]\n",
       "order_estimated_delivery_date    datetime64[ns]\n",
       "customer_unique_id                       object\n",
       "day_of_week_purchase                     object\n",
       "dtype: object"
      ]
     },
     "execution_count": 98,
     "metadata": {},
     "output_type": "execute_result"
    }
   ],
   "source": [
    "ordersID['order_estimated_delivery_date'] = pd.to_datetime(ordersID['order_estimated_delivery_date'])\n",
    "ordersID['order_purchase_timestamp'] = pd.to_datetime(ordersID['order_purchase_timestamp'])\n",
    "ordersID['order_approved_at'] = pd.to_datetime(ordersID['order_approved_at'])\n",
    "ordersID['order_delivered_customer_date'] = pd.to_datetime(ordersID['order_delivered_customer_date'])\n",
    "ordersID['order_delivered_carrier_date'] = pd.to_datetime(ordersID['order_delivered_carrier_date'])\n",
    "ordersID['day_of_week_purchase'] = ordersID['order_purchase_timestamp'].dt.day_name()\n",
    "ordersID.dtypes"
   ]
  },
  {
   "cell_type": "code",
   "execution_count": 99,
   "metadata": {
    "scrolled": true
   },
   "outputs": [],
   "source": [
    "ordersID['year_and_month_purchase'] = ordersID['order_purchase_timestamp'].dt.to_period('M') # Переведем колонку в формат datetime64"
   ]
  },
  {
   "cell_type": "code",
   "execution_count": 100,
   "metadata": {},
   "outputs": [
    {
     "data": {
      "text/html": [
       "<div>\n",
       "<style scoped>\n",
       "    .dataframe tbody tr th:only-of-type {\n",
       "        vertical-align: middle;\n",
       "    }\n",
       "\n",
       "    .dataframe tbody tr th {\n",
       "        vertical-align: top;\n",
       "    }\n",
       "\n",
       "    .dataframe thead th {\n",
       "        text-align: right;\n",
       "    }\n",
       "</style>\n",
       "<table border=\"1\" class=\"dataframe\">\n",
       "  <thead>\n",
       "    <tr style=\"text-align: right;\">\n",
       "      <th></th>\n",
       "      <th>order_id</th>\n",
       "      <th>customer_id</th>\n",
       "      <th>order_status</th>\n",
       "      <th>order_purchase_timestamp</th>\n",
       "      <th>order_approved_at</th>\n",
       "      <th>order_delivered_carrier_date</th>\n",
       "      <th>order_delivered_customer_date</th>\n",
       "      <th>order_estimated_delivery_date</th>\n",
       "      <th>customer_unique_id</th>\n",
       "      <th>day_of_week_purchase</th>\n",
       "      <th>year_and_month_purchase</th>\n",
       "    </tr>\n",
       "  </thead>\n",
       "  <tbody>\n",
       "    <tr>\n",
       "      <th>0</th>\n",
       "      <td>00e7ee1b050b8499577073aeb2a297a1</td>\n",
       "      <td>06b8999e2fba1a1fbc88172c00ba8bc7</td>\n",
       "      <td>delivered</td>\n",
       "      <td>2017-05-16 15:05:35</td>\n",
       "      <td>2017-05-16 15:22:12</td>\n",
       "      <td>2017-05-23 10:47:57</td>\n",
       "      <td>2017-05-25 10:35:35</td>\n",
       "      <td>2017-06-05</td>\n",
       "      <td>861eff4711a542e4b93843c6dd7febb0</td>\n",
       "      <td>Tuesday</td>\n",
       "      <td>2017-05</td>\n",
       "    </tr>\n",
       "    <tr>\n",
       "      <th>1</th>\n",
       "      <td>29150127e6685892b6eab3eec79f59c7</td>\n",
       "      <td>18955e83d337fd6b2def6b18a428ac77</td>\n",
       "      <td>delivered</td>\n",
       "      <td>2018-01-12 20:48:24</td>\n",
       "      <td>2018-01-12 20:58:32</td>\n",
       "      <td>2018-01-15 17:14:59</td>\n",
       "      <td>2018-01-29 12:41:19</td>\n",
       "      <td>2018-02-06</td>\n",
       "      <td>290c77bc529b7ac935b93aa66c333dc3</td>\n",
       "      <td>Friday</td>\n",
       "      <td>2018-01</td>\n",
       "    </tr>\n",
       "    <tr>\n",
       "      <th>2</th>\n",
       "      <td>b2059ed67ce144a36e2aa97d2c9e9ad2</td>\n",
       "      <td>4e7b3e00288586ebd08712fdd0374a03</td>\n",
       "      <td>delivered</td>\n",
       "      <td>2018-05-19 16:07:45</td>\n",
       "      <td>2018-05-20 16:19:10</td>\n",
       "      <td>2018-06-11 14:31:00</td>\n",
       "      <td>2018-06-14 17:58:51</td>\n",
       "      <td>2018-06-13</td>\n",
       "      <td>060e732b5b29e8181a18229c7b0b2b5e</td>\n",
       "      <td>Saturday</td>\n",
       "      <td>2018-05</td>\n",
       "    </tr>\n",
       "    <tr>\n",
       "      <th>3</th>\n",
       "      <td>951670f92359f4fe4a63112aa7306eba</td>\n",
       "      <td>b2b6027bc5c5109e529d4dc6358b12c3</td>\n",
       "      <td>delivered</td>\n",
       "      <td>2018-03-13 16:06:38</td>\n",
       "      <td>2018-03-13 17:29:19</td>\n",
       "      <td>2018-03-27 23:22:42</td>\n",
       "      <td>2018-03-28 16:04:25</td>\n",
       "      <td>2018-04-10</td>\n",
       "      <td>259dac757896d24d7702b9acbbff3f3c</td>\n",
       "      <td>Tuesday</td>\n",
       "      <td>2018-03</td>\n",
       "    </tr>\n",
       "    <tr>\n",
       "      <th>4</th>\n",
       "      <td>6b7d50bd145f6fc7f33cebabd7e49d0f</td>\n",
       "      <td>4f2d8ab171c80ec8364f7c12e35b23ad</td>\n",
       "      <td>delivered</td>\n",
       "      <td>2018-07-29 09:51:30</td>\n",
       "      <td>2018-07-29 10:10:09</td>\n",
       "      <td>2018-07-30 15:16:00</td>\n",
       "      <td>2018-08-09 20:55:48</td>\n",
       "      <td>2018-08-15</td>\n",
       "      <td>345ecd01c38d18a9036ed96c73b8d066</td>\n",
       "      <td>Sunday</td>\n",
       "      <td>2018-07</td>\n",
       "    </tr>\n",
       "  </tbody>\n",
       "</table>\n",
       "</div>"
      ],
      "text/plain": [
       "                           order_id                       customer_id  \\\n",
       "0  00e7ee1b050b8499577073aeb2a297a1  06b8999e2fba1a1fbc88172c00ba8bc7   \n",
       "1  29150127e6685892b6eab3eec79f59c7  18955e83d337fd6b2def6b18a428ac77   \n",
       "2  b2059ed67ce144a36e2aa97d2c9e9ad2  4e7b3e00288586ebd08712fdd0374a03   \n",
       "3  951670f92359f4fe4a63112aa7306eba  b2b6027bc5c5109e529d4dc6358b12c3   \n",
       "4  6b7d50bd145f6fc7f33cebabd7e49d0f  4f2d8ab171c80ec8364f7c12e35b23ad   \n",
       "\n",
       "  order_status order_purchase_timestamp   order_approved_at  \\\n",
       "0    delivered      2017-05-16 15:05:35 2017-05-16 15:22:12   \n",
       "1    delivered      2018-01-12 20:48:24 2018-01-12 20:58:32   \n",
       "2    delivered      2018-05-19 16:07:45 2018-05-20 16:19:10   \n",
       "3    delivered      2018-03-13 16:06:38 2018-03-13 17:29:19   \n",
       "4    delivered      2018-07-29 09:51:30 2018-07-29 10:10:09   \n",
       "\n",
       "  order_delivered_carrier_date order_delivered_customer_date  \\\n",
       "0          2017-05-23 10:47:57           2017-05-25 10:35:35   \n",
       "1          2018-01-15 17:14:59           2018-01-29 12:41:19   \n",
       "2          2018-06-11 14:31:00           2018-06-14 17:58:51   \n",
       "3          2018-03-27 23:22:42           2018-03-28 16:04:25   \n",
       "4          2018-07-30 15:16:00           2018-08-09 20:55:48   \n",
       "\n",
       "  order_estimated_delivery_date                customer_unique_id  \\\n",
       "0                    2017-06-05  861eff4711a542e4b93843c6dd7febb0   \n",
       "1                    2018-02-06  290c77bc529b7ac935b93aa66c333dc3   \n",
       "2                    2018-06-13  060e732b5b29e8181a18229c7b0b2b5e   \n",
       "3                    2018-04-10  259dac757896d24d7702b9acbbff3f3c   \n",
       "4                    2018-08-15  345ecd01c38d18a9036ed96c73b8d066   \n",
       "\n",
       "  day_of_week_purchase year_and_month_purchase  \n",
       "0              Tuesday                 2017-05  \n",
       "1               Friday                 2018-01  \n",
       "2             Saturday                 2018-05  \n",
       "3              Tuesday                 2018-03  \n",
       "4               Sunday                 2018-07  "
      ]
     },
     "execution_count": 100,
     "metadata": {},
     "output_type": "execute_result"
    }
   ],
   "source": [
    "ordersID.head()"
   ]
  },
  {
   "cell_type": "code",
   "execution_count": 101,
   "metadata": {},
   "outputs": [],
   "source": [
    "df = ordersID.loc[:, ['customer_unique_id','order_approved_at','year_and_month_purchase','day_of_week_purchase']] # Отберем только необходимые данные"
   ]
  },
  {
   "cell_type": "code",
   "execution_count": 102,
   "metadata": {},
   "outputs": [
    {
     "data": {
      "text/html": [
       "<div>\n",
       "<style scoped>\n",
       "    .dataframe tbody tr th:only-of-type {\n",
       "        vertical-align: middle;\n",
       "    }\n",
       "\n",
       "    .dataframe tbody tr th {\n",
       "        vertical-align: top;\n",
       "    }\n",
       "\n",
       "    .dataframe thead th {\n",
       "        text-align: right;\n",
       "    }\n",
       "</style>\n",
       "<table border=\"1\" class=\"dataframe\">\n",
       "  <thead>\n",
       "    <tr style=\"text-align: right;\">\n",
       "      <th></th>\n",
       "      <th>customer_unique_id</th>\n",
       "      <th>order_approved_at</th>\n",
       "      <th>year_and_month_purchase</th>\n",
       "      <th>day_of_week_purchase</th>\n",
       "    </tr>\n",
       "  </thead>\n",
       "  <tbody>\n",
       "    <tr>\n",
       "      <th>0</th>\n",
       "      <td>861eff4711a542e4b93843c6dd7febb0</td>\n",
       "      <td>2017-05-16 15:22:12</td>\n",
       "      <td>2017-05</td>\n",
       "      <td>Tuesday</td>\n",
       "    </tr>\n",
       "    <tr>\n",
       "      <th>1</th>\n",
       "      <td>290c77bc529b7ac935b93aa66c333dc3</td>\n",
       "      <td>2018-01-12 20:58:32</td>\n",
       "      <td>2018-01</td>\n",
       "      <td>Friday</td>\n",
       "    </tr>\n",
       "    <tr>\n",
       "      <th>2</th>\n",
       "      <td>060e732b5b29e8181a18229c7b0b2b5e</td>\n",
       "      <td>2018-05-20 16:19:10</td>\n",
       "      <td>2018-05</td>\n",
       "      <td>Saturday</td>\n",
       "    </tr>\n",
       "    <tr>\n",
       "      <th>3</th>\n",
       "      <td>259dac757896d24d7702b9acbbff3f3c</td>\n",
       "      <td>2018-03-13 17:29:19</td>\n",
       "      <td>2018-03</td>\n",
       "      <td>Tuesday</td>\n",
       "    </tr>\n",
       "    <tr>\n",
       "      <th>4</th>\n",
       "      <td>345ecd01c38d18a9036ed96c73b8d066</td>\n",
       "      <td>2018-07-29 10:10:09</td>\n",
       "      <td>2018-07</td>\n",
       "      <td>Sunday</td>\n",
       "    </tr>\n",
       "  </tbody>\n",
       "</table>\n",
       "</div>"
      ],
      "text/plain": [
       "                 customer_unique_id   order_approved_at  \\\n",
       "0  861eff4711a542e4b93843c6dd7febb0 2017-05-16 15:22:12   \n",
       "1  290c77bc529b7ac935b93aa66c333dc3 2018-01-12 20:58:32   \n",
       "2  060e732b5b29e8181a18229c7b0b2b5e 2018-05-20 16:19:10   \n",
       "3  259dac757896d24d7702b9acbbff3f3c 2018-03-13 17:29:19   \n",
       "4  345ecd01c38d18a9036ed96c73b8d066 2018-07-29 10:10:09   \n",
       "\n",
       "  year_and_month_purchase day_of_week_purchase  \n",
       "0                 2017-05              Tuesday  \n",
       "1                 2018-01               Friday  \n",
       "2                 2018-05             Saturday  \n",
       "3                 2018-03              Tuesday  \n",
       "4                 2018-07               Sunday  "
      ]
     },
     "execution_count": 102,
     "metadata": {},
     "output_type": "execute_result"
    }
   ],
   "source": [
    "df.head()"
   ]
  },
  {
   "cell_type": "markdown",
   "metadata": {},
   "source": [
    "Удалим неоплаченные заказы и посчитаем сколько заказов сделал клиент в определенный месяц"
   ]
  },
  {
   "cell_type": "code",
   "execution_count": 103,
   "metadata": {},
   "outputs": [],
   "source": [
    "xd = df.query('order_approved_at.notna()') \\\n",
    "        .groupby(['customer_unique_id','year_and_month_purchase'], as_index=False) \\\n",
    "        .agg({'order_approved_at' : 'count'}) \\\n",
    "        .sort_values('order_approved_at', ascending = False) "
   ]
  },
  {
   "cell_type": "markdown",
   "metadata": {},
   "source": [
    "Напишем функцию которая считает сколько недель в месяце(с учетом дней) и применим ее на нашу таблицу"
   ]
  },
  {
   "cell_type": "code",
   "execution_count": 104,
   "metadata": {},
   "outputs": [],
   "source": [
    "import datetime\n",
    "import calendar\n",
    "\n",
    "def week_of_month(x):\n",
    "\n",
    "    days_this_month = calendar.mdays[x.month]\n",
    "    currentDate = datetime.date.today()\n",
    "    xd = datetime.date(x.year, x.month, calendar.monthrange(x.year, x.month)[1])\n",
    "    return round(xd.day/ 7,3)\n",
    "\n",
    "xd['weeks_in_month'] = xd['year_and_month_purchase'].apply(week_of_month)"
   ]
  },
  {
   "cell_type": "code",
   "execution_count": 105,
   "metadata": {},
   "outputs": [
    {
     "data": {
      "text/html": [
       "<div>\n",
       "<style scoped>\n",
       "    .dataframe tbody tr th:only-of-type {\n",
       "        vertical-align: middle;\n",
       "    }\n",
       "\n",
       "    .dataframe tbody tr th {\n",
       "        vertical-align: top;\n",
       "    }\n",
       "\n",
       "    .dataframe thead th {\n",
       "        text-align: right;\n",
       "    }\n",
       "</style>\n",
       "<table border=\"1\" class=\"dataframe\">\n",
       "  <thead>\n",
       "    <tr style=\"text-align: right;\">\n",
       "      <th></th>\n",
       "      <th>customer_unique_id</th>\n",
       "      <th>year_and_month_purchase</th>\n",
       "      <th>order_approved_at</th>\n",
       "      <th>weeks_in_month</th>\n",
       "    </tr>\n",
       "  </thead>\n",
       "  <tbody>\n",
       "    <tr>\n",
       "      <th>7315</th>\n",
       "      <td>12f5d6e1cbf93dafd9dcc19095df0b3d</td>\n",
       "      <td>2017-01</td>\n",
       "      <td>6</td>\n",
       "      <td>4.429</td>\n",
       "    </tr>\n",
       "    <tr>\n",
       "      <th>14471</th>\n",
       "      <td>25a560b9a6006157838aab1bdbd68624</td>\n",
       "      <td>2017-04</td>\n",
       "      <td>4</td>\n",
       "      <td>4.286</td>\n",
       "    </tr>\n",
       "    <tr>\n",
       "      <th>67667</th>\n",
       "      <td>b08fab27d47a1eb6deda07bfd965ad43</td>\n",
       "      <td>2017-09</td>\n",
       "      <td>4</td>\n",
       "      <td>4.286</td>\n",
       "    </tr>\n",
       "    <tr>\n",
       "      <th>50560</th>\n",
       "      <td>83e7958a94bd7f74a9414d8782f87628</td>\n",
       "      <td>2017-01</td>\n",
       "      <td>4</td>\n",
       "      <td>4.429</td>\n",
       "    </tr>\n",
       "    <tr>\n",
       "      <th>23911</th>\n",
       "      <td>3e43e6105506432c953e165fb2acf44c</td>\n",
       "      <td>2018-02</td>\n",
       "      <td>4</td>\n",
       "      <td>4.000</td>\n",
       "    </tr>\n",
       "  </tbody>\n",
       "</table>\n",
       "</div>"
      ],
      "text/plain": [
       "                     customer_unique_id year_and_month_purchase  \\\n",
       "7315   12f5d6e1cbf93dafd9dcc19095df0b3d                 2017-01   \n",
       "14471  25a560b9a6006157838aab1bdbd68624                 2017-04   \n",
       "67667  b08fab27d47a1eb6deda07bfd965ad43                 2017-09   \n",
       "50560  83e7958a94bd7f74a9414d8782f87628                 2017-01   \n",
       "23911  3e43e6105506432c953e165fb2acf44c                 2018-02   \n",
       "\n",
       "       order_approved_at  weeks_in_month  \n",
       "7315                   6           4.429  \n",
       "14471                  4           4.286  \n",
       "67667                  4           4.286  \n",
       "50560                  4           4.429  \n",
       "23911                  4           4.000  "
      ]
     },
     "execution_count": 105,
     "metadata": {},
     "output_type": "execute_result"
    }
   ],
   "source": [
    "xd.head()"
   ]
  },
  {
   "cell_type": "markdown",
   "metadata": {},
   "source": [
    "И последнее найдем среднее количество покупок в неделю"
   ]
  },
  {
   "cell_type": "code",
   "execution_count": 106,
   "metadata": {
    "scrolled": false
   },
   "outputs": [
    {
     "data": {
      "text/html": [
       "<div>\n",
       "<style scoped>\n",
       "    .dataframe tbody tr th:only-of-type {\n",
       "        vertical-align: middle;\n",
       "    }\n",
       "\n",
       "    .dataframe tbody tr th {\n",
       "        vertical-align: top;\n",
       "    }\n",
       "\n",
       "    .dataframe thead th {\n",
       "        text-align: right;\n",
       "    }\n",
       "</style>\n",
       "<table border=\"1\" class=\"dataframe\">\n",
       "  <thead>\n",
       "    <tr style=\"text-align: right;\">\n",
       "      <th></th>\n",
       "      <th>customer_unique_id</th>\n",
       "      <th>year_and_month_purchase</th>\n",
       "      <th>order_approved_at</th>\n",
       "      <th>weeks_in_month</th>\n",
       "      <th>mean_purchases_per_month</th>\n",
       "    </tr>\n",
       "  </thead>\n",
       "  <tbody>\n",
       "    <tr>\n",
       "      <th>7315</th>\n",
       "      <td>12f5d6e1cbf93dafd9dcc19095df0b3d</td>\n",
       "      <td>2017-01</td>\n",
       "      <td>6</td>\n",
       "      <td>4.429</td>\n",
       "      <td>1.35</td>\n",
       "    </tr>\n",
       "    <tr>\n",
       "      <th>14471</th>\n",
       "      <td>25a560b9a6006157838aab1bdbd68624</td>\n",
       "      <td>2017-04</td>\n",
       "      <td>4</td>\n",
       "      <td>4.286</td>\n",
       "      <td>0.93</td>\n",
       "    </tr>\n",
       "    <tr>\n",
       "      <th>67667</th>\n",
       "      <td>b08fab27d47a1eb6deda07bfd965ad43</td>\n",
       "      <td>2017-09</td>\n",
       "      <td>4</td>\n",
       "      <td>4.286</td>\n",
       "      <td>0.93</td>\n",
       "    </tr>\n",
       "    <tr>\n",
       "      <th>50560</th>\n",
       "      <td>83e7958a94bd7f74a9414d8782f87628</td>\n",
       "      <td>2017-01</td>\n",
       "      <td>4</td>\n",
       "      <td>4.429</td>\n",
       "      <td>0.90</td>\n",
       "    </tr>\n",
       "    <tr>\n",
       "      <th>23911</th>\n",
       "      <td>3e43e6105506432c953e165fb2acf44c</td>\n",
       "      <td>2018-02</td>\n",
       "      <td>4</td>\n",
       "      <td>4.000</td>\n",
       "      <td>1.00</td>\n",
       "    </tr>\n",
       "  </tbody>\n",
       "</table>\n",
       "</div>"
      ],
      "text/plain": [
       "                     customer_unique_id year_and_month_purchase  \\\n",
       "7315   12f5d6e1cbf93dafd9dcc19095df0b3d                 2017-01   \n",
       "14471  25a560b9a6006157838aab1bdbd68624                 2017-04   \n",
       "67667  b08fab27d47a1eb6deda07bfd965ad43                 2017-09   \n",
       "50560  83e7958a94bd7f74a9414d8782f87628                 2017-01   \n",
       "23911  3e43e6105506432c953e165fb2acf44c                 2018-02   \n",
       "\n",
       "       order_approved_at  weeks_in_month  mean_purchases_per_month  \n",
       "7315                   6           4.429                      1.35  \n",
       "14471                  4           4.286                      0.93  \n",
       "67667                  4           4.286                      0.93  \n",
       "50560                  4           4.429                      0.90  \n",
       "23911                  4           4.000                      1.00  "
      ]
     },
     "execution_count": 106,
     "metadata": {},
     "output_type": "execute_result"
    }
   ],
   "source": [
    "xd['mean_purchases_per_month'] = round(xd.order_approved_at / (xd.weeks_in_month),2)\n",
    "\n",
    "xd.head()"
   ]
  },
  {
   "cell_type": "markdown",
   "metadata": {},
   "source": [
    "------"
   ]
  },
  {
   "cell_type": "markdown",
   "metadata": {},
   "source": [
    "## 5 задание"
   ]
  },
  {
   "cell_type": "markdown",
   "metadata": {},
   "source": [
    "Используя pandas, проведи когортный анализ пользователей. В период с января по декабрь выяви когорту с самым высоким \n",
    "retention на 3й месяц. Описание подхода можно найти тут. (15 баллов)"
   ]
  },
  {
   "cell_type": "code",
   "execution_count": 107,
   "metadata": {
    "scrolled": false
   },
   "outputs": [],
   "source": [
    "customers = pd.read_csv('/mnt/HC_Volume_18315164/home-jupyter/jupyter-an-makarov/first_project/andrei_makarov_15.07_andreymakarovs@mail.ru/variant1/olist_customers_dataset.csv')\n",
    "orders = pd.read_csv('/mnt/HC_Volume_18315164/home-jupyter/jupyter-an-makarov/first_project/andrei_makarov_15.07_andreymakarovs@mail.ru/variant1/olist_orders_dataset.csv')"
   ]
  },
  {
   "cell_type": "code",
   "execution_count": null,
   "metadata": {},
   "outputs": [],
   "source": []
  },
  {
   "cell_type": "code",
   "execution_count": 108,
   "metadata": {},
   "outputs": [],
   "source": [
    "# соединим все нужные таблицы в один\n",
    "\n",
    "order_payment = pd.merge(orders, customers[['customer_id','customer_unique_id']],on='customer_id', how='right') "
   ]
  },
  {
   "cell_type": "code",
   "execution_count": 109,
   "metadata": {},
   "outputs": [
    {
     "data": {
      "text/html": [
       "<div>\n",
       "<style scoped>\n",
       "    .dataframe tbody tr th:only-of-type {\n",
       "        vertical-align: middle;\n",
       "    }\n",
       "\n",
       "    .dataframe tbody tr th {\n",
       "        vertical-align: top;\n",
       "    }\n",
       "\n",
       "    .dataframe thead th {\n",
       "        text-align: right;\n",
       "    }\n",
       "</style>\n",
       "<table border=\"1\" class=\"dataframe\">\n",
       "  <thead>\n",
       "    <tr style=\"text-align: right;\">\n",
       "      <th></th>\n",
       "      <th>order_id</th>\n",
       "      <th>customer_id</th>\n",
       "      <th>order_status</th>\n",
       "      <th>order_purchase_timestamp</th>\n",
       "      <th>order_approved_at</th>\n",
       "      <th>order_delivered_carrier_date</th>\n",
       "      <th>order_delivered_customer_date</th>\n",
       "      <th>order_estimated_delivery_date</th>\n",
       "      <th>customer_unique_id</th>\n",
       "    </tr>\n",
       "  </thead>\n",
       "  <tbody>\n",
       "    <tr>\n",
       "      <th>0</th>\n",
       "      <td>00e7ee1b050b8499577073aeb2a297a1</td>\n",
       "      <td>06b8999e2fba1a1fbc88172c00ba8bc7</td>\n",
       "      <td>delivered</td>\n",
       "      <td>2017-05-16 15:05:35</td>\n",
       "      <td>2017-05-16 15:22:12</td>\n",
       "      <td>2017-05-23 10:47:57</td>\n",
       "      <td>2017-05-25 10:35:35</td>\n",
       "      <td>2017-06-05 00:00:00</td>\n",
       "      <td>861eff4711a542e4b93843c6dd7febb0</td>\n",
       "    </tr>\n",
       "    <tr>\n",
       "      <th>1</th>\n",
       "      <td>29150127e6685892b6eab3eec79f59c7</td>\n",
       "      <td>18955e83d337fd6b2def6b18a428ac77</td>\n",
       "      <td>delivered</td>\n",
       "      <td>2018-01-12 20:48:24</td>\n",
       "      <td>2018-01-12 20:58:32</td>\n",
       "      <td>2018-01-15 17:14:59</td>\n",
       "      <td>2018-01-29 12:41:19</td>\n",
       "      <td>2018-02-06 00:00:00</td>\n",
       "      <td>290c77bc529b7ac935b93aa66c333dc3</td>\n",
       "    </tr>\n",
       "    <tr>\n",
       "      <th>2</th>\n",
       "      <td>b2059ed67ce144a36e2aa97d2c9e9ad2</td>\n",
       "      <td>4e7b3e00288586ebd08712fdd0374a03</td>\n",
       "      <td>delivered</td>\n",
       "      <td>2018-05-19 16:07:45</td>\n",
       "      <td>2018-05-20 16:19:10</td>\n",
       "      <td>2018-06-11 14:31:00</td>\n",
       "      <td>2018-06-14 17:58:51</td>\n",
       "      <td>2018-06-13 00:00:00</td>\n",
       "      <td>060e732b5b29e8181a18229c7b0b2b5e</td>\n",
       "    </tr>\n",
       "    <tr>\n",
       "      <th>3</th>\n",
       "      <td>951670f92359f4fe4a63112aa7306eba</td>\n",
       "      <td>b2b6027bc5c5109e529d4dc6358b12c3</td>\n",
       "      <td>delivered</td>\n",
       "      <td>2018-03-13 16:06:38</td>\n",
       "      <td>2018-03-13 17:29:19</td>\n",
       "      <td>2018-03-27 23:22:42</td>\n",
       "      <td>2018-03-28 16:04:25</td>\n",
       "      <td>2018-04-10 00:00:00</td>\n",
       "      <td>259dac757896d24d7702b9acbbff3f3c</td>\n",
       "    </tr>\n",
       "    <tr>\n",
       "      <th>4</th>\n",
       "      <td>6b7d50bd145f6fc7f33cebabd7e49d0f</td>\n",
       "      <td>4f2d8ab171c80ec8364f7c12e35b23ad</td>\n",
       "      <td>delivered</td>\n",
       "      <td>2018-07-29 09:51:30</td>\n",
       "      <td>2018-07-29 10:10:09</td>\n",
       "      <td>2018-07-30 15:16:00</td>\n",
       "      <td>2018-08-09 20:55:48</td>\n",
       "      <td>2018-08-15 00:00:00</td>\n",
       "      <td>345ecd01c38d18a9036ed96c73b8d066</td>\n",
       "    </tr>\n",
       "  </tbody>\n",
       "</table>\n",
       "</div>"
      ],
      "text/plain": [
       "                           order_id                       customer_id  \\\n",
       "0  00e7ee1b050b8499577073aeb2a297a1  06b8999e2fba1a1fbc88172c00ba8bc7   \n",
       "1  29150127e6685892b6eab3eec79f59c7  18955e83d337fd6b2def6b18a428ac77   \n",
       "2  b2059ed67ce144a36e2aa97d2c9e9ad2  4e7b3e00288586ebd08712fdd0374a03   \n",
       "3  951670f92359f4fe4a63112aa7306eba  b2b6027bc5c5109e529d4dc6358b12c3   \n",
       "4  6b7d50bd145f6fc7f33cebabd7e49d0f  4f2d8ab171c80ec8364f7c12e35b23ad   \n",
       "\n",
       "  order_status order_purchase_timestamp    order_approved_at  \\\n",
       "0    delivered      2017-05-16 15:05:35  2017-05-16 15:22:12   \n",
       "1    delivered      2018-01-12 20:48:24  2018-01-12 20:58:32   \n",
       "2    delivered      2018-05-19 16:07:45  2018-05-20 16:19:10   \n",
       "3    delivered      2018-03-13 16:06:38  2018-03-13 17:29:19   \n",
       "4    delivered      2018-07-29 09:51:30  2018-07-29 10:10:09   \n",
       "\n",
       "  order_delivered_carrier_date order_delivered_customer_date  \\\n",
       "0          2017-05-23 10:47:57           2017-05-25 10:35:35   \n",
       "1          2018-01-15 17:14:59           2018-01-29 12:41:19   \n",
       "2          2018-06-11 14:31:00           2018-06-14 17:58:51   \n",
       "3          2018-03-27 23:22:42           2018-03-28 16:04:25   \n",
       "4          2018-07-30 15:16:00           2018-08-09 20:55:48   \n",
       "\n",
       "  order_estimated_delivery_date                customer_unique_id  \n",
       "0           2017-06-05 00:00:00  861eff4711a542e4b93843c6dd7febb0  \n",
       "1           2018-02-06 00:00:00  290c77bc529b7ac935b93aa66c333dc3  \n",
       "2           2018-06-13 00:00:00  060e732b5b29e8181a18229c7b0b2b5e  \n",
       "3           2018-04-10 00:00:00  259dac757896d24d7702b9acbbff3f3c  \n",
       "4           2018-08-15 00:00:00  345ecd01c38d18a9036ed96c73b8d066  "
      ]
     },
     "execution_count": 109,
     "metadata": {},
     "output_type": "execute_result"
    }
   ],
   "source": [
    "order_payment.head()"
   ]
  },
  {
   "cell_type": "code",
   "execution_count": 110,
   "metadata": {
    "scrolled": true
   },
   "outputs": [
    {
     "data": {
      "text/html": [
       "<div>\n",
       "<style scoped>\n",
       "    .dataframe tbody tr th:only-of-type {\n",
       "        vertical-align: middle;\n",
       "    }\n",
       "\n",
       "    .dataframe tbody tr th {\n",
       "        vertical-align: top;\n",
       "    }\n",
       "\n",
       "    .dataframe thead th {\n",
       "        text-align: right;\n",
       "    }\n",
       "</style>\n",
       "<table border=\"1\" class=\"dataframe\">\n",
       "  <thead>\n",
       "    <tr style=\"text-align: right;\">\n",
       "      <th></th>\n",
       "      <th>customer_unique_id</th>\n",
       "      <th>customer_id</th>\n",
       "      <th>order_approved_at</th>\n",
       "    </tr>\n",
       "  </thead>\n",
       "  <tbody>\n",
       "    <tr>\n",
       "      <th>0</th>\n",
       "      <td>861eff4711a542e4b93843c6dd7febb0</td>\n",
       "      <td>06b8999e2fba1a1fbc88172c00ba8bc7</td>\n",
       "      <td>2017-05-16 15:22:12</td>\n",
       "    </tr>\n",
       "    <tr>\n",
       "      <th>1</th>\n",
       "      <td>290c77bc529b7ac935b93aa66c333dc3</td>\n",
       "      <td>18955e83d337fd6b2def6b18a428ac77</td>\n",
       "      <td>2018-01-12 20:58:32</td>\n",
       "    </tr>\n",
       "    <tr>\n",
       "      <th>2</th>\n",
       "      <td>060e732b5b29e8181a18229c7b0b2b5e</td>\n",
       "      <td>4e7b3e00288586ebd08712fdd0374a03</td>\n",
       "      <td>2018-05-20 16:19:10</td>\n",
       "    </tr>\n",
       "    <tr>\n",
       "      <th>3</th>\n",
       "      <td>259dac757896d24d7702b9acbbff3f3c</td>\n",
       "      <td>b2b6027bc5c5109e529d4dc6358b12c3</td>\n",
       "      <td>2018-03-13 17:29:19</td>\n",
       "    </tr>\n",
       "    <tr>\n",
       "      <th>4</th>\n",
       "      <td>345ecd01c38d18a9036ed96c73b8d066</td>\n",
       "      <td>4f2d8ab171c80ec8364f7c12e35b23ad</td>\n",
       "      <td>2018-07-29 10:10:09</td>\n",
       "    </tr>\n",
       "  </tbody>\n",
       "</table>\n",
       "</div>"
      ],
      "text/plain": [
       "                 customer_unique_id                       customer_id  \\\n",
       "0  861eff4711a542e4b93843c6dd7febb0  06b8999e2fba1a1fbc88172c00ba8bc7   \n",
       "1  290c77bc529b7ac935b93aa66c333dc3  18955e83d337fd6b2def6b18a428ac77   \n",
       "2  060e732b5b29e8181a18229c7b0b2b5e  4e7b3e00288586ebd08712fdd0374a03   \n",
       "3  259dac757896d24d7702b9acbbff3f3c  b2b6027bc5c5109e529d4dc6358b12c3   \n",
       "4  345ecd01c38d18a9036ed96c73b8d066  4f2d8ab171c80ec8364f7c12e35b23ad   \n",
       "\n",
       "     order_approved_at  \n",
       "0  2017-05-16 15:22:12  \n",
       "1  2018-01-12 20:58:32  \n",
       "2  2018-05-20 16:19:10  \n",
       "3  2018-03-13 17:29:19  \n",
       "4  2018-07-29 10:10:09  "
      ]
     },
     "execution_count": 110,
     "metadata": {},
     "output_type": "execute_result"
    }
   ],
   "source": [
    "# Отсечем не нужные данные\n",
    "cohort = order_payment[['customer_unique_id', 'customer_id', 'order_approved_at']]\n",
    "cohort.head()"
   ]
  },
  {
   "cell_type": "code",
   "execution_count": 111,
   "metadata": {},
   "outputs": [
    {
     "name": "stderr",
     "output_type": "stream",
     "text": [
      "/opt/tljh/user/lib/python3.7/site-packages/ipykernel_launcher.py:1: SettingWithCopyWarning: \n",
      "A value is trying to be set on a copy of a slice from a DataFrame.\n",
      "Try using .loc[row_indexer,col_indexer] = value instead\n",
      "\n",
      "See the caveats in the documentation: https://pandas.pydata.org/pandas-docs/stable/user_guide/indexing.html#returning-a-view-versus-a-copy\n",
      "  \"\"\"Entry point for launching an IPython kernel.\n"
     ]
    }
   ],
   "source": [
    "cohort['order_approved_at'] = pd.to_datetime(cohort['order_approved_at'])"
   ]
  },
  {
   "cell_type": "code",
   "execution_count": 112,
   "metadata": {},
   "outputs": [
    {
     "name": "stderr",
     "output_type": "stream",
     "text": [
      "/opt/tljh/user/lib/python3.7/site-packages/ipykernel_launcher.py:3: SettingWithCopyWarning: \n",
      "A value is trying to be set on a copy of a slice from a DataFrame.\n",
      "Try using .loc[row_indexer,col_indexer] = value instead\n",
      "\n",
      "See the caveats in the documentation: https://pandas.pydata.org/pandas-docs/stable/user_guide/indexing.html#returning-a-view-versus-a-copy\n",
      "  This is separate from the ipykernel package so we can avoid doing imports until\n",
      "/opt/tljh/user/lib/python3.7/site-packages/ipykernel_launcher.py:5: SettingWithCopyWarning: \n",
      "A value is trying to be set on a copy of a slice from a DataFrame.\n",
      "Try using .loc[row_indexer,col_indexer] = value instead\n",
      "\n",
      "See the caveats in the documentation: https://pandas.pydata.org/pandas-docs/stable/user_guide/indexing.html#returning-a-view-versus-a-copy\n",
      "  \"\"\"\n"
     ]
    },
    {
     "data": {
      "text/html": [
       "<div>\n",
       "<style scoped>\n",
       "    .dataframe tbody tr th:only-of-type {\n",
       "        vertical-align: middle;\n",
       "    }\n",
       "\n",
       "    .dataframe tbody tr th {\n",
       "        vertical-align: top;\n",
       "    }\n",
       "\n",
       "    .dataframe thead th {\n",
       "        text-align: right;\n",
       "    }\n",
       "</style>\n",
       "<table border=\"1\" class=\"dataframe\">\n",
       "  <thead>\n",
       "    <tr style=\"text-align: right;\">\n",
       "      <th></th>\n",
       "      <th>customer_unique_id</th>\n",
       "      <th>customer_id</th>\n",
       "      <th>order_approved_at</th>\n",
       "      <th>order_month</th>\n",
       "      <th>cohort</th>\n",
       "    </tr>\n",
       "  </thead>\n",
       "  <tbody>\n",
       "    <tr>\n",
       "      <th>0</th>\n",
       "      <td>861eff4711a542e4b93843c6dd7febb0</td>\n",
       "      <td>06b8999e2fba1a1fbc88172c00ba8bc7</td>\n",
       "      <td>2017-05-16 15:22:12</td>\n",
       "      <td>2017-05</td>\n",
       "      <td>2017-05</td>\n",
       "    </tr>\n",
       "    <tr>\n",
       "      <th>1</th>\n",
       "      <td>290c77bc529b7ac935b93aa66c333dc3</td>\n",
       "      <td>18955e83d337fd6b2def6b18a428ac77</td>\n",
       "      <td>2018-01-12 20:58:32</td>\n",
       "      <td>2018-01</td>\n",
       "      <td>2018-01</td>\n",
       "    </tr>\n",
       "    <tr>\n",
       "      <th>2</th>\n",
       "      <td>060e732b5b29e8181a18229c7b0b2b5e</td>\n",
       "      <td>4e7b3e00288586ebd08712fdd0374a03</td>\n",
       "      <td>2018-05-20 16:19:10</td>\n",
       "      <td>2018-05</td>\n",
       "      <td>2018-05</td>\n",
       "    </tr>\n",
       "    <tr>\n",
       "      <th>3</th>\n",
       "      <td>259dac757896d24d7702b9acbbff3f3c</td>\n",
       "      <td>b2b6027bc5c5109e529d4dc6358b12c3</td>\n",
       "      <td>2018-03-13 17:29:19</td>\n",
       "      <td>2018-03</td>\n",
       "      <td>2018-03</td>\n",
       "    </tr>\n",
       "    <tr>\n",
       "      <th>4</th>\n",
       "      <td>345ecd01c38d18a9036ed96c73b8d066</td>\n",
       "      <td>4f2d8ab171c80ec8364f7c12e35b23ad</td>\n",
       "      <td>2018-07-29 10:10:09</td>\n",
       "      <td>2018-07</td>\n",
       "      <td>2018-07</td>\n",
       "    </tr>\n",
       "  </tbody>\n",
       "</table>\n",
       "</div>"
      ],
      "text/plain": [
       "                 customer_unique_id                       customer_id  \\\n",
       "0  861eff4711a542e4b93843c6dd7febb0  06b8999e2fba1a1fbc88172c00ba8bc7   \n",
       "1  290c77bc529b7ac935b93aa66c333dc3  18955e83d337fd6b2def6b18a428ac77   \n",
       "2  060e732b5b29e8181a18229c7b0b2b5e  4e7b3e00288586ebd08712fdd0374a03   \n",
       "3  259dac757896d24d7702b9acbbff3f3c  b2b6027bc5c5109e529d4dc6358b12c3   \n",
       "4  345ecd01c38d18a9036ed96c73b8d066  4f2d8ab171c80ec8364f7c12e35b23ad   \n",
       "\n",
       "    order_approved_at order_month   cohort  \n",
       "0 2017-05-16 15:22:12     2017-05  2017-05  \n",
       "1 2018-01-12 20:58:32     2018-01  2018-01  \n",
       "2 2018-05-20 16:19:10     2018-05  2018-05  \n",
       "3 2018-03-13 17:29:19     2018-03  2018-03  \n",
       "4 2018-07-29 10:10:09     2018-07  2018-07  "
      ]
     },
     "execution_count": 112,
     "metadata": {},
     "output_type": "execute_result"
    }
   ],
   "source": [
    "# Найдем первую покупку нашего клиента и сделаем табличку с датой покупки в формате %Y-%m\n",
    "\n",
    "cohort['order_month'] = cohort['order_approved_at'].dt.to_period('M')\n",
    "cohort['cohort'] = cohort.groupby('customer_unique_id')['order_approved_at'] \\\n",
    "                                           .transform('min').dt.to_period('M')\n",
    "cohort.head()"
   ]
  },
  {
   "cell_type": "code",
   "execution_count": 113,
   "metadata": {},
   "outputs": [
    {
     "data": {
      "text/html": [
       "<div>\n",
       "<style scoped>\n",
       "    .dataframe tbody tr th:only-of-type {\n",
       "        vertical-align: middle;\n",
       "    }\n",
       "\n",
       "    .dataframe tbody tr th {\n",
       "        vertical-align: top;\n",
       "    }\n",
       "\n",
       "    .dataframe thead th {\n",
       "        text-align: right;\n",
       "    }\n",
       "</style>\n",
       "<table border=\"1\" class=\"dataframe\">\n",
       "  <thead>\n",
       "    <tr style=\"text-align: right;\">\n",
       "      <th></th>\n",
       "      <th>cohort</th>\n",
       "      <th>order_month</th>\n",
       "      <th>count_customers</th>\n",
       "      <th>cohort_group</th>\n",
       "    </tr>\n",
       "  </thead>\n",
       "  <tbody>\n",
       "    <tr>\n",
       "      <th>0</th>\n",
       "      <td>2016-09</td>\n",
       "      <td>2016-09</td>\n",
       "      <td>1</td>\n",
       "      <td>0</td>\n",
       "    </tr>\n",
       "    <tr>\n",
       "      <th>1</th>\n",
       "      <td>2016-10</td>\n",
       "      <td>2016-10</td>\n",
       "      <td>320</td>\n",
       "      <td>0</td>\n",
       "    </tr>\n",
       "    <tr>\n",
       "      <th>2</th>\n",
       "      <td>2016-10</td>\n",
       "      <td>2017-04</td>\n",
       "      <td>1</td>\n",
       "      <td>6</td>\n",
       "    </tr>\n",
       "    <tr>\n",
       "      <th>3</th>\n",
       "      <td>2016-10</td>\n",
       "      <td>2017-07</td>\n",
       "      <td>1</td>\n",
       "      <td>9</td>\n",
       "    </tr>\n",
       "    <tr>\n",
       "      <th>4</th>\n",
       "      <td>2016-10</td>\n",
       "      <td>2017-09</td>\n",
       "      <td>1</td>\n",
       "      <td>11</td>\n",
       "    </tr>\n",
       "  </tbody>\n",
       "</table>\n",
       "</div>"
      ],
      "text/plain": [
       "    cohort order_month  count_customers  cohort_group\n",
       "0  2016-09     2016-09                1             0\n",
       "1  2016-10     2016-10              320             0\n",
       "2  2016-10     2017-04                1             6\n",
       "3  2016-10     2017-07                1             9\n",
       "4  2016-10     2017-09                1            11"
      ]
     },
     "execution_count": 113,
     "metadata": {},
     "output_type": "execute_result"
    }
   ],
   "source": [
    "# Сгруппируем данные по когорте и год-месяцу покупки заказа и посчитаем количество уникальных пользователей\n",
    "\n",
    "cohort = cohort.groupby(['cohort', 'order_month']) \\\n",
    "                        .agg({'customer_id': pd.Series.nunique}) \\\n",
    "                        .rename(columns={'customer_id': 'count_customers'}) \\\n",
    "                        .reset_index()\n",
    "\n",
    "# Посчитаем сколько прошло месяцев между первой покупкой и датой покупки заказа\n",
    "cohort['cohort_group'] = (cohort.order_month - cohort.cohort).apply(attrgetter('n'))\n",
    "cohort.head()"
   ]
  },
  {
   "cell_type": "code",
   "execution_count": 114,
   "metadata": {},
   "outputs": [],
   "source": [
    "# Удалим не нужные даты из таблицы\n",
    "cohort = cohort.query('order_month >= \"2017-01\" & order_month < \"2018-01\" & cohort >= \"2017-01\"')"
   ]
  },
  {
   "cell_type": "code",
   "execution_count": 115,
   "metadata": {
    "scrolled": true
   },
   "outputs": [
    {
     "data": {
      "text/html": [
       "<div>\n",
       "<style scoped>\n",
       "    .dataframe tbody tr th:only-of-type {\n",
       "        vertical-align: middle;\n",
       "    }\n",
       "\n",
       "    .dataframe tbody tr th {\n",
       "        vertical-align: top;\n",
       "    }\n",
       "\n",
       "    .dataframe thead th {\n",
       "        text-align: right;\n",
       "    }\n",
       "</style>\n",
       "<table border=\"1\" class=\"dataframe\">\n",
       "  <thead>\n",
       "    <tr style=\"text-align: right;\">\n",
       "      <th>cohort_group</th>\n",
       "      <th>0</th>\n",
       "      <th>1</th>\n",
       "      <th>2</th>\n",
       "      <th>3</th>\n",
       "      <th>4</th>\n",
       "      <th>5</th>\n",
       "      <th>6</th>\n",
       "      <th>7</th>\n",
       "      <th>8</th>\n",
       "      <th>9</th>\n",
       "      <th>10</th>\n",
       "      <th>11</th>\n",
       "    </tr>\n",
       "    <tr>\n",
       "      <th>cohort</th>\n",
       "      <th></th>\n",
       "      <th></th>\n",
       "      <th></th>\n",
       "      <th></th>\n",
       "      <th></th>\n",
       "      <th></th>\n",
       "      <th></th>\n",
       "      <th></th>\n",
       "      <th></th>\n",
       "      <th></th>\n",
       "      <th></th>\n",
       "      <th></th>\n",
       "    </tr>\n",
       "  </thead>\n",
       "  <tbody>\n",
       "    <tr>\n",
       "      <th>2017-01</th>\n",
       "      <td>759.0</td>\n",
       "      <td>4.0</td>\n",
       "      <td>2.0</td>\n",
       "      <td>1.0</td>\n",
       "      <td>3.0</td>\n",
       "      <td>1.0</td>\n",
       "      <td>4.0</td>\n",
       "      <td>1.0</td>\n",
       "      <td>1.0</td>\n",
       "      <td>NaN</td>\n",
       "      <td>2.0</td>\n",
       "      <td>2.0</td>\n",
       "    </tr>\n",
       "    <tr>\n",
       "      <th>2017-02</th>\n",
       "      <td>1761.0</td>\n",
       "      <td>4.0</td>\n",
       "      <td>4.0</td>\n",
       "      <td>3.0</td>\n",
       "      <td>7.0</td>\n",
       "      <td>2.0</td>\n",
       "      <td>4.0</td>\n",
       "      <td>3.0</td>\n",
       "      <td>2.0</td>\n",
       "      <td>4.0</td>\n",
       "      <td>2.0</td>\n",
       "      <td>NaN</td>\n",
       "    </tr>\n",
       "    <tr>\n",
       "      <th>2017-03</th>\n",
       "      <td>2683.0</td>\n",
       "      <td>14.0</td>\n",
       "      <td>9.0</td>\n",
       "      <td>11.0</td>\n",
       "      <td>9.0</td>\n",
       "      <td>4.0</td>\n",
       "      <td>4.0</td>\n",
       "      <td>8.0</td>\n",
       "      <td>8.0</td>\n",
       "      <td>3.0</td>\n",
       "      <td>NaN</td>\n",
       "      <td>NaN</td>\n",
       "    </tr>\n",
       "    <tr>\n",
       "      <th>2017-04</th>\n",
       "      <td>2354.0</td>\n",
       "      <td>15.0</td>\n",
       "      <td>6.0</td>\n",
       "      <td>5.0</td>\n",
       "      <td>7.0</td>\n",
       "      <td>6.0</td>\n",
       "      <td>9.0</td>\n",
       "      <td>6.0</td>\n",
       "      <td>8.0</td>\n",
       "      <td>NaN</td>\n",
       "      <td>NaN</td>\n",
       "      <td>NaN</td>\n",
       "    </tr>\n",
       "    <tr>\n",
       "      <th>2017-05</th>\n",
       "      <td>3663.0</td>\n",
       "      <td>20.0</td>\n",
       "      <td>21.0</td>\n",
       "      <td>14.0</td>\n",
       "      <td>11.0</td>\n",
       "      <td>15.0</td>\n",
       "      <td>17.0</td>\n",
       "      <td>6.0</td>\n",
       "      <td>NaN</td>\n",
       "      <td>NaN</td>\n",
       "      <td>NaN</td>\n",
       "      <td>NaN</td>\n",
       "    </tr>\n",
       "    <tr>\n",
       "      <th>2017-06</th>\n",
       "      <td>3207.0</td>\n",
       "      <td>15.0</td>\n",
       "      <td>12.0</td>\n",
       "      <td>13.0</td>\n",
       "      <td>8.0</td>\n",
       "      <td>11.0</td>\n",
       "      <td>12.0</td>\n",
       "      <td>NaN</td>\n",
       "      <td>NaN</td>\n",
       "      <td>NaN</td>\n",
       "      <td>NaN</td>\n",
       "      <td>NaN</td>\n",
       "    </tr>\n",
       "    <tr>\n",
       "      <th>2017-07</th>\n",
       "      <td>3917.0</td>\n",
       "      <td>22.0</td>\n",
       "      <td>13.0</td>\n",
       "      <td>8.0</td>\n",
       "      <td>15.0</td>\n",
       "      <td>7.0</td>\n",
       "      <td>NaN</td>\n",
       "      <td>NaN</td>\n",
       "      <td>NaN</td>\n",
       "      <td>NaN</td>\n",
       "      <td>NaN</td>\n",
       "      <td>NaN</td>\n",
       "    </tr>\n",
       "    <tr>\n",
       "      <th>2017-08</th>\n",
       "      <td>4284.0</td>\n",
       "      <td>28.0</td>\n",
       "      <td>17.0</td>\n",
       "      <td>11.0</td>\n",
       "      <td>16.0</td>\n",
       "      <td>NaN</td>\n",
       "      <td>NaN</td>\n",
       "      <td>NaN</td>\n",
       "      <td>NaN</td>\n",
       "      <td>NaN</td>\n",
       "      <td>NaN</td>\n",
       "      <td>NaN</td>\n",
       "    </tr>\n",
       "    <tr>\n",
       "      <th>2017-09</th>\n",
       "      <td>4221.0</td>\n",
       "      <td>27.0</td>\n",
       "      <td>20.0</td>\n",
       "      <td>18.0</td>\n",
       "      <td>NaN</td>\n",
       "      <td>NaN</td>\n",
       "      <td>NaN</td>\n",
       "      <td>NaN</td>\n",
       "      <td>NaN</td>\n",
       "      <td>NaN</td>\n",
       "      <td>NaN</td>\n",
       "      <td>NaN</td>\n",
       "    </tr>\n",
       "    <tr>\n",
       "      <th>2017-10</th>\n",
       "      <td>4496.0</td>\n",
       "      <td>32.0</td>\n",
       "      <td>13.0</td>\n",
       "      <td>NaN</td>\n",
       "      <td>NaN</td>\n",
       "      <td>NaN</td>\n",
       "      <td>NaN</td>\n",
       "      <td>NaN</td>\n",
       "      <td>NaN</td>\n",
       "      <td>NaN</td>\n",
       "      <td>NaN</td>\n",
       "      <td>NaN</td>\n",
       "    </tr>\n",
       "    <tr>\n",
       "      <th>2017-11</th>\n",
       "      <td>7268.0</td>\n",
       "      <td>41.0</td>\n",
       "      <td>NaN</td>\n",
       "      <td>NaN</td>\n",
       "      <td>NaN</td>\n",
       "      <td>NaN</td>\n",
       "      <td>NaN</td>\n",
       "      <td>NaN</td>\n",
       "      <td>NaN</td>\n",
       "      <td>NaN</td>\n",
       "      <td>NaN</td>\n",
       "      <td>NaN</td>\n",
       "    </tr>\n",
       "    <tr>\n",
       "      <th>2017-12</th>\n",
       "      <td>5704.0</td>\n",
       "      <td>NaN</td>\n",
       "      <td>NaN</td>\n",
       "      <td>NaN</td>\n",
       "      <td>NaN</td>\n",
       "      <td>NaN</td>\n",
       "      <td>NaN</td>\n",
       "      <td>NaN</td>\n",
       "      <td>NaN</td>\n",
       "      <td>NaN</td>\n",
       "      <td>NaN</td>\n",
       "      <td>NaN</td>\n",
       "    </tr>\n",
       "  </tbody>\n",
       "</table>\n",
       "</div>"
      ],
      "text/plain": [
       "cohort_group      0     1     2     3     4     5     6    7    8    9    10  \\\n",
       "cohort                                                                         \n",
       "2017-01        759.0   4.0   2.0   1.0   3.0   1.0   4.0  1.0  1.0  NaN  2.0   \n",
       "2017-02       1761.0   4.0   4.0   3.0   7.0   2.0   4.0  3.0  2.0  4.0  2.0   \n",
       "2017-03       2683.0  14.0   9.0  11.0   9.0   4.0   4.0  8.0  8.0  3.0  NaN   \n",
       "2017-04       2354.0  15.0   6.0   5.0   7.0   6.0   9.0  6.0  8.0  NaN  NaN   \n",
       "2017-05       3663.0  20.0  21.0  14.0  11.0  15.0  17.0  6.0  NaN  NaN  NaN   \n",
       "2017-06       3207.0  15.0  12.0  13.0   8.0  11.0  12.0  NaN  NaN  NaN  NaN   \n",
       "2017-07       3917.0  22.0  13.0   8.0  15.0   7.0   NaN  NaN  NaN  NaN  NaN   \n",
       "2017-08       4284.0  28.0  17.0  11.0  16.0   NaN   NaN  NaN  NaN  NaN  NaN   \n",
       "2017-09       4221.0  27.0  20.0  18.0   NaN   NaN   NaN  NaN  NaN  NaN  NaN   \n",
       "2017-10       4496.0  32.0  13.0   NaN   NaN   NaN   NaN  NaN  NaN  NaN  NaN   \n",
       "2017-11       7268.0  41.0   NaN   NaN   NaN   NaN   NaN  NaN  NaN  NaN  NaN   \n",
       "2017-12       5704.0   NaN   NaN   NaN   NaN   NaN   NaN  NaN  NaN  NaN  NaN   \n",
       "\n",
       "cohort_group   11  \n",
       "cohort             \n",
       "2017-01       2.0  \n",
       "2017-02       NaN  \n",
       "2017-03       NaN  \n",
       "2017-04       NaN  \n",
       "2017-05       NaN  \n",
       "2017-06       NaN  \n",
       "2017-07       NaN  \n",
       "2017-08       NaN  \n",
       "2017-09       NaN  \n",
       "2017-10       NaN  \n",
       "2017-11       NaN  \n",
       "2017-12       NaN  "
      ]
     },
     "execution_count": 115,
     "metadata": {},
     "output_type": "execute_result"
    }
   ],
   "source": [
    "# Трансформируем нашу таблицу в Pivot формат\n",
    "cohort_pivot = cohort.pivot_table(index='cohort', columns='cohort_group', values='count_customers')\n",
    "cohort_pivot"
   ]
  },
  {
   "cell_type": "code",
   "execution_count": 116,
   "metadata": {},
   "outputs": [],
   "source": [
    "# Возьмем в отдельную переменную первые значения строк\n",
    "\n",
    "cohort_size = cohort_pivot.iloc[:,0]"
   ]
  },
  {
   "cell_type": "code",
   "execution_count": 117,
   "metadata": {},
   "outputs": [],
   "source": [
    "# Поделим значения ячейки на соответствующие им значения и получим таблицу retention\n",
    "\n",
    "retention = cohort_pivot.divide(cohort_size, axis = 0).mul(100).round(2)"
   ]
  },
  {
   "cell_type": "code",
   "execution_count": 118,
   "metadata": {},
   "outputs": [],
   "source": [
    "# Удалим первый столбец\n",
    "retention = retention.iloc[:,1:]"
   ]
  },
  {
   "cell_type": "code",
   "execution_count": 119,
   "metadata": {
    "scrolled": false
   },
   "outputs": [
    {
     "data": {
      "text/plain": [
       "<matplotlib.axes._subplots.AxesSubplot at 0x7fcc58168c18>"
      ]
     },
     "execution_count": 119,
     "metadata": {},
     "output_type": "execute_result"
    },
    {
     "data": {
      "image/png": "[encoded data removed]",
      "text/plain": [
       "<Figure size 1440x504 with 2 Axes>"
      ]
     },
     "metadata": {},
     "output_type": "display_data"
    }
   ],
   "source": [
    "# Построим Heatmap для наших значений\n",
    "\n",
    "sns.heatmap(retention,annot=True)\n",
    "\n",
    "  "
   ]
  },
  {
   "cell_type": "markdown",
   "metadata": {},
   "source": [
    "Как видно из графика наибольший retention был от 2017-09 со значением 0.43"
   ]
  },
  {
   "cell_type": "markdown",
   "metadata": {},
   "source": [
    "----"
   ]
  },
  {
   "cell_type": "markdown",
   "metadata": {},
   "source": [
    "## 6 задание"
   ]
  },
  {
   "cell_type": "markdown",
   "metadata": {},
   "source": [
    "Часто для качественного анализа аудитории использую подходы, основанные на сегментации. Используя python, построй RFM-сегментацию пользователей, чтобы качественно оценить свою аудиторию. В кластеризации можешь выбрать следующие метрики: \n",
    "\n",
    "R - время от последней покупки пользователя до текущей даты,\n",
    "\n",
    "F - суммарное количество покупок у пользователя за всё время, \n",
    "\n",
    "M - сумма покупок за всё время. Подробно опиши, как ты создавал кластеры.\n",
    "\n",
    "Для каждого RFM-сегмента построй границы метрик recency, frequency и monetary для интерпретации этих кластеров. "
   ]
  },
  {
   "cell_type": "code",
   "execution_count": 120,
   "metadata": {},
   "outputs": [],
   "source": [
    "# Прочитаем данные\n",
    "items = pd.read_csv('/mnt/HC_Volume_18315164/home-jupyter/jupyter-an-makarov/first_project/andrei_makarov_15.07_andreymakarovs@mail.ru/variant1/olist_order_items_dataset.csv')\n",
    "\n",
    "# соединим таблицу items и orders\n",
    "orders = orders.reset_index()\n",
    "customers = customers.reset_index()\n",
    "\n",
    "orders_w_i = pd.merge(orders, items[['order_id','product_id','price']],on='order_id', how='left')"
   ]
  },
  {
   "cell_type": "code",
   "execution_count": 121,
   "metadata": {},
   "outputs": [],
   "source": [
    "df = pd.merge(orders_w_i, customers[['customer_id','customer_unique_id']],on='customer_id', how='right') "
   ]
  },
  {
   "cell_type": "code",
   "execution_count": 122,
   "metadata": {},
   "outputs": [
    {
     "data": {
      "text/html": [
       "<div>\n",
       "<style scoped>\n",
       "    .dataframe tbody tr th:only-of-type {\n",
       "        vertical-align: middle;\n",
       "    }\n",
       "\n",
       "    .dataframe tbody tr th {\n",
       "        vertical-align: top;\n",
       "    }\n",
       "\n",
       "    .dataframe thead th {\n",
       "        text-align: right;\n",
       "    }\n",
       "</style>\n",
       "<table border=\"1\" class=\"dataframe\">\n",
       "  <thead>\n",
       "    <tr style=\"text-align: right;\">\n",
       "      <th></th>\n",
       "      <th>index</th>\n",
       "      <th>order_id</th>\n",
       "      <th>customer_id</th>\n",
       "      <th>order_status</th>\n",
       "      <th>order_purchase_timestamp</th>\n",
       "      <th>order_approved_at</th>\n",
       "      <th>order_delivered_carrier_date</th>\n",
       "      <th>order_delivered_customer_date</th>\n",
       "      <th>order_estimated_delivery_date</th>\n",
       "      <th>product_id</th>\n",
       "      <th>price</th>\n",
       "      <th>customer_unique_id</th>\n",
       "    </tr>\n",
       "  </thead>\n",
       "  <tbody>\n",
       "    <tr>\n",
       "      <th>0</th>\n",
       "      <td>88492</td>\n",
       "      <td>00e7ee1b050b8499577073aeb2a297a1</td>\n",
       "      <td>06b8999e2fba1a1fbc88172c00ba8bc7</td>\n",
       "      <td>delivered</td>\n",
       "      <td>2017-05-16 15:05:35</td>\n",
       "      <td>2017-05-16 15:22:12</td>\n",
       "      <td>2017-05-23 10:47:57</td>\n",
       "      <td>2017-05-25 10:35:35</td>\n",
       "      <td>2017-06-05 00:00:00</td>\n",
       "      <td>a9516a079e37a9c9c36b9b78b10169e8</td>\n",
       "      <td>124.99</td>\n",
       "      <td>861eff4711a542e4b93843c6dd7febb0</td>\n",
       "    </tr>\n",
       "    <tr>\n",
       "      <th>1</th>\n",
       "      <td>90418</td>\n",
       "      <td>29150127e6685892b6eab3eec79f59c7</td>\n",
       "      <td>18955e83d337fd6b2def6b18a428ac77</td>\n",
       "      <td>delivered</td>\n",
       "      <td>2018-01-12 20:48:24</td>\n",
       "      <td>2018-01-12 20:58:32</td>\n",
       "      <td>2018-01-15 17:14:59</td>\n",
       "      <td>2018-01-29 12:41:19</td>\n",
       "      <td>2018-02-06 00:00:00</td>\n",
       "      <td>4aa6014eceb682077f9dc4bffebc05b0</td>\n",
       "      <td>289.00</td>\n",
       "      <td>290c77bc529b7ac935b93aa66c333dc3</td>\n",
       "    </tr>\n",
       "    <tr>\n",
       "      <th>2</th>\n",
       "      <td>22557</td>\n",
       "      <td>b2059ed67ce144a36e2aa97d2c9e9ad2</td>\n",
       "      <td>4e7b3e00288586ebd08712fdd0374a03</td>\n",
       "      <td>delivered</td>\n",
       "      <td>2018-05-19 16:07:45</td>\n",
       "      <td>2018-05-20 16:19:10</td>\n",
       "      <td>2018-06-11 14:31:00</td>\n",
       "      <td>2018-06-14 17:58:51</td>\n",
       "      <td>2018-06-13 00:00:00</td>\n",
       "      <td>bd07b66896d6f1494f5b86251848ced7</td>\n",
       "      <td>139.94</td>\n",
       "      <td>060e732b5b29e8181a18229c7b0b2b5e</td>\n",
       "    </tr>\n",
       "    <tr>\n",
       "      <th>3</th>\n",
       "      <td>32180</td>\n",
       "      <td>951670f92359f4fe4a63112aa7306eba</td>\n",
       "      <td>b2b6027bc5c5109e529d4dc6358b12c3</td>\n",
       "      <td>delivered</td>\n",
       "      <td>2018-03-13 16:06:38</td>\n",
       "      <td>2018-03-13 17:29:19</td>\n",
       "      <td>2018-03-27 23:22:42</td>\n",
       "      <td>2018-03-28 16:04:25</td>\n",
       "      <td>2018-04-10 00:00:00</td>\n",
       "      <td>a5647c44af977b148e0a3a4751a09e2e</td>\n",
       "      <td>149.94</td>\n",
       "      <td>259dac757896d24d7702b9acbbff3f3c</td>\n",
       "    </tr>\n",
       "    <tr>\n",
       "      <th>4</th>\n",
       "      <td>69902</td>\n",
       "      <td>6b7d50bd145f6fc7f33cebabd7e49d0f</td>\n",
       "      <td>4f2d8ab171c80ec8364f7c12e35b23ad</td>\n",
       "      <td>delivered</td>\n",
       "      <td>2018-07-29 09:51:30</td>\n",
       "      <td>2018-07-29 10:10:09</td>\n",
       "      <td>2018-07-30 15:16:00</td>\n",
       "      <td>2018-08-09 20:55:48</td>\n",
       "      <td>2018-08-15 00:00:00</td>\n",
       "      <td>9391a573abe00141c56e38d84d7d5b3b</td>\n",
       "      <td>230.00</td>\n",
       "      <td>345ecd01c38d18a9036ed96c73b8d066</td>\n",
       "    </tr>\n",
       "  </tbody>\n",
       "</table>\n",
       "</div>"
      ],
      "text/plain": [
       "   index                          order_id                       customer_id  \\\n",
       "0  88492  00e7ee1b050b8499577073aeb2a297a1  06b8999e2fba1a1fbc88172c00ba8bc7   \n",
       "1  90418  29150127e6685892b6eab3eec79f59c7  18955e83d337fd6b2def6b18a428ac77   \n",
       "2  22557  b2059ed67ce144a36e2aa97d2c9e9ad2  4e7b3e00288586ebd08712fdd0374a03   \n",
       "3  32180  951670f92359f4fe4a63112aa7306eba  b2b6027bc5c5109e529d4dc6358b12c3   \n",
       "4  69902  6b7d50bd145f6fc7f33cebabd7e49d0f  4f2d8ab171c80ec8364f7c12e35b23ad   \n",
       "\n",
       "  order_status order_purchase_timestamp    order_approved_at  \\\n",
       "0    delivered      2017-05-16 15:05:35  2017-05-16 15:22:12   \n",
       "1    delivered      2018-01-12 20:48:24  2018-01-12 20:58:32   \n",
       "2    delivered      2018-05-19 16:07:45  2018-05-20 16:19:10   \n",
       "3    delivered      2018-03-13 16:06:38  2018-03-13 17:29:19   \n",
       "4    delivered      2018-07-29 09:51:30  2018-07-29 10:10:09   \n",
       "\n",
       "  order_delivered_carrier_date order_delivered_customer_date  \\\n",
       "0          2017-05-23 10:47:57           2017-05-25 10:35:35   \n",
       "1          2018-01-15 17:14:59           2018-01-29 12:41:19   \n",
       "2          2018-06-11 14:31:00           2018-06-14 17:58:51   \n",
       "3          2018-03-27 23:22:42           2018-03-28 16:04:25   \n",
       "4          2018-07-30 15:16:00           2018-08-09 20:55:48   \n",
       "\n",
       "  order_estimated_delivery_date                        product_id   price  \\\n",
       "0           2017-06-05 00:00:00  a9516a079e37a9c9c36b9b78b10169e8  124.99   \n",
       "1           2018-02-06 00:00:00  4aa6014eceb682077f9dc4bffebc05b0  289.00   \n",
       "2           2018-06-13 00:00:00  bd07b66896d6f1494f5b86251848ced7  139.94   \n",
       "3           2018-04-10 00:00:00  a5647c44af977b148e0a3a4751a09e2e  149.94   \n",
       "4           2018-08-15 00:00:00  9391a573abe00141c56e38d84d7d5b3b  230.00   \n",
       "\n",
       "                 customer_unique_id  \n",
       "0  861eff4711a542e4b93843c6dd7febb0  \n",
       "1  290c77bc529b7ac935b93aa66c333dc3  \n",
       "2  060e732b5b29e8181a18229c7b0b2b5e  \n",
       "3  259dac757896d24d7702b9acbbff3f3c  \n",
       "4  345ecd01c38d18a9036ed96c73b8d066  "
      ]
     },
     "execution_count": 122,
     "metadata": {},
     "output_type": "execute_result"
    }
   ],
   "source": [
    "df.head()"
   ]
  },
  {
   "cell_type": "code",
   "execution_count": 123,
   "metadata": {},
   "outputs": [],
   "source": [
    "# Переведем в формат даты Y-m-d\n",
    "df['order_approved_month'] = df['order_approved_at'].astype('datetime64[M]') "
   ]
  },
  {
   "cell_type": "code",
   "execution_count": 124,
   "metadata": {},
   "outputs": [
    {
     "data": {
      "text/html": [
       "<div>\n",
       "<style scoped>\n",
       "    .dataframe tbody tr th:only-of-type {\n",
       "        vertical-align: middle;\n",
       "    }\n",
       "\n",
       "    .dataframe tbody tr th {\n",
       "        vertical-align: top;\n",
       "    }\n",
       "\n",
       "    .dataframe thead th {\n",
       "        text-align: right;\n",
       "    }\n",
       "</style>\n",
       "<table border=\"1\" class=\"dataframe\">\n",
       "  <thead>\n",
       "    <tr style=\"text-align: right;\">\n",
       "      <th></th>\n",
       "      <th>order_id</th>\n",
       "      <th>order_approved_at</th>\n",
       "      <th>customer_unique_id</th>\n",
       "      <th>customer_id</th>\n",
       "      <th>price</th>\n",
       "    </tr>\n",
       "  </thead>\n",
       "  <tbody>\n",
       "    <tr>\n",
       "      <th>0</th>\n",
       "      <td>00010242fe8c5a6d1ba2dd792cb16214</td>\n",
       "      <td>2017-09-13 09:45:35</td>\n",
       "      <td>871766c5855e863f6eccc05f988b23cb</td>\n",
       "      <td>3ce436f183e68e07877b285a838db11a</td>\n",
       "      <td>58.90</td>\n",
       "    </tr>\n",
       "    <tr>\n",
       "      <th>1</th>\n",
       "      <td>00018f77f2f0320c557190d7a144bdd3</td>\n",
       "      <td>2017-04-26 11:05:13</td>\n",
       "      <td>eb28e67c4c0b83846050ddfb8a35d051</td>\n",
       "      <td>f6dd3ec061db4e3987629fe6b26e5cce</td>\n",
       "      <td>239.90</td>\n",
       "    </tr>\n",
       "    <tr>\n",
       "      <th>2</th>\n",
       "      <td>000229ec398224ef6ca0657da4fc703e</td>\n",
       "      <td>2018-01-14 14:48:30</td>\n",
       "      <td>3818d81c6709e39d06b2738a8d3a2474</td>\n",
       "      <td>6489ae5e4333f3693df5ad4372dab6d3</td>\n",
       "      <td>199.00</td>\n",
       "    </tr>\n",
       "    <tr>\n",
       "      <th>3</th>\n",
       "      <td>00024acbcdf0a6daa1e931b038114c75</td>\n",
       "      <td>2018-08-08 10:10:18</td>\n",
       "      <td>af861d436cfc08b2c2ddefd0ba074622</td>\n",
       "      <td>d4eb9395c8c0431ee92fce09860c5a06</td>\n",
       "      <td>12.99</td>\n",
       "    </tr>\n",
       "    <tr>\n",
       "      <th>4</th>\n",
       "      <td>00042b26cf59d7ce69dfabb4e55b4fd9</td>\n",
       "      <td>2017-02-04 14:10:13</td>\n",
       "      <td>64b576fb70d441e8f1b2d7d446e483c5</td>\n",
       "      <td>58dbd0b2d70206bf40e62cd34e84d795</td>\n",
       "      <td>199.90</td>\n",
       "    </tr>\n",
       "  </tbody>\n",
       "</table>\n",
       "</div>"
      ],
      "text/plain": [
       "                           order_id    order_approved_at  \\\n",
       "0  00010242fe8c5a6d1ba2dd792cb16214  2017-09-13 09:45:35   \n",
       "1  00018f77f2f0320c557190d7a144bdd3  2017-04-26 11:05:13   \n",
       "2  000229ec398224ef6ca0657da4fc703e  2018-01-14 14:48:30   \n",
       "3  00024acbcdf0a6daa1e931b038114c75  2018-08-08 10:10:18   \n",
       "4  00042b26cf59d7ce69dfabb4e55b4fd9  2017-02-04 14:10:13   \n",
       "\n",
       "                 customer_unique_id                       customer_id   price  \n",
       "0  871766c5855e863f6eccc05f988b23cb  3ce436f183e68e07877b285a838db11a   58.90  \n",
       "1  eb28e67c4c0b83846050ddfb8a35d051  f6dd3ec061db4e3987629fe6b26e5cce  239.90  \n",
       "2  3818d81c6709e39d06b2738a8d3a2474  6489ae5e4333f3693df5ad4372dab6d3  199.00  \n",
       "3  af861d436cfc08b2c2ddefd0ba074622  d4eb9395c8c0431ee92fce09860c5a06   12.99  \n",
       "4  64b576fb70d441e8f1b2d7d446e483c5  58dbd0b2d70206bf40e62cd34e84d795  199.90  "
      ]
     },
     "execution_count": 124,
     "metadata": {},
     "output_type": "execute_result"
    }
   ],
   "source": [
    "# Найдем цену каждому заказу\n",
    "df = df.groupby(['order_id', 'order_approved_at', 'customer_unique_id', 'customer_id']).agg({'price': lambda x: x.sum()}).reset_index()\n",
    "df.head()"
   ]
  },
  {
   "cell_type": "code",
   "execution_count": 136,
   "metadata": {},
   "outputs": [],
   "source": [
    "# Сделаем точку отсчета от даты последнего заказа\n",
    "df['order_approved_at'] = pd.to_datetime(df['order_approved_at'])\n",
    "recency_date = df.order_approved_at.max()"
   ]
  },
  {
   "cell_type": "code",
   "execution_count": 137,
   "metadata": {},
   "outputs": [
    {
     "data": {
      "text/plain": [
       "Timestamp('2018-09-03 17:40:06')"
      ]
     },
     "execution_count": 137,
     "metadata": {},
     "output_type": "execute_result"
    }
   ],
   "source": [
    "recency_date"
   ]
  },
  {
   "cell_type": "code",
   "execution_count": 138,
   "metadata": {},
   "outputs": [],
   "source": [
    "# Посчитаем количество прошедших дней со дня заказа от recency_date\n",
    "df['days_since_order'] = df['order_approved_at'].apply(lambda x: (recency_date - x).days)"
   ]
  },
  {
   "cell_type": "code",
   "execution_count": 139,
   "metadata": {},
   "outputs": [],
   "source": [
    "# Установим период в 365 дней\n",
    "period = 365"
   ]
  },
  {
   "cell_type": "code",
   "execution_count": 140,
   "metadata": {
    "scrolled": false
   },
   "outputs": [
    {
     "data": {
      "text/html": [
       "<div>\n",
       "<style scoped>\n",
       "    .dataframe tbody tr th:only-of-type {\n",
       "        vertical-align: middle;\n",
       "    }\n",
       "\n",
       "    .dataframe tbody tr th {\n",
       "        vertical-align: top;\n",
       "    }\n",
       "\n",
       "    .dataframe thead th {\n",
       "        text-align: right;\n",
       "    }\n",
       "</style>\n",
       "<table border=\"1\" class=\"dataframe\">\n",
       "  <thead>\n",
       "    <tr style=\"text-align: right;\">\n",
       "      <th></th>\n",
       "      <th>order_id</th>\n",
       "      <th>order_approved_at</th>\n",
       "      <th>customer_unique_id</th>\n",
       "      <th>customer_id</th>\n",
       "      <th>price</th>\n",
       "      <th>days_since_order</th>\n",
       "    </tr>\n",
       "  </thead>\n",
       "  <tbody>\n",
       "    <tr>\n",
       "      <th>0</th>\n",
       "      <td>00010242fe8c5a6d1ba2dd792cb16214</td>\n",
       "      <td>2017-09-13 09:45:35</td>\n",
       "      <td>871766c5855e863f6eccc05f988b23cb</td>\n",
       "      <td>3ce436f183e68e07877b285a838db11a</td>\n",
       "      <td>58.90</td>\n",
       "      <td>355</td>\n",
       "    </tr>\n",
       "    <tr>\n",
       "      <th>1</th>\n",
       "      <td>00018f77f2f0320c557190d7a144bdd3</td>\n",
       "      <td>2017-04-26 11:05:13</td>\n",
       "      <td>eb28e67c4c0b83846050ddfb8a35d051</td>\n",
       "      <td>f6dd3ec061db4e3987629fe6b26e5cce</td>\n",
       "      <td>239.90</td>\n",
       "      <td>495</td>\n",
       "    </tr>\n",
       "    <tr>\n",
       "      <th>2</th>\n",
       "      <td>000229ec398224ef6ca0657da4fc703e</td>\n",
       "      <td>2018-01-14 14:48:30</td>\n",
       "      <td>3818d81c6709e39d06b2738a8d3a2474</td>\n",
       "      <td>6489ae5e4333f3693df5ad4372dab6d3</td>\n",
       "      <td>199.00</td>\n",
       "      <td>232</td>\n",
       "    </tr>\n",
       "    <tr>\n",
       "      <th>3</th>\n",
       "      <td>00024acbcdf0a6daa1e931b038114c75</td>\n",
       "      <td>2018-08-08 10:10:18</td>\n",
       "      <td>af861d436cfc08b2c2ddefd0ba074622</td>\n",
       "      <td>d4eb9395c8c0431ee92fce09860c5a06</td>\n",
       "      <td>12.99</td>\n",
       "      <td>26</td>\n",
       "    </tr>\n",
       "    <tr>\n",
       "      <th>4</th>\n",
       "      <td>00042b26cf59d7ce69dfabb4e55b4fd9</td>\n",
       "      <td>2017-02-04 14:10:13</td>\n",
       "      <td>64b576fb70d441e8f1b2d7d446e483c5</td>\n",
       "      <td>58dbd0b2d70206bf40e62cd34e84d795</td>\n",
       "      <td>199.90</td>\n",
       "      <td>576</td>\n",
       "    </tr>\n",
       "  </tbody>\n",
       "</table>\n",
       "</div>"
      ],
      "text/plain": [
       "                           order_id   order_approved_at  \\\n",
       "0  00010242fe8c5a6d1ba2dd792cb16214 2017-09-13 09:45:35   \n",
       "1  00018f77f2f0320c557190d7a144bdd3 2017-04-26 11:05:13   \n",
       "2  000229ec398224ef6ca0657da4fc703e 2018-01-14 14:48:30   \n",
       "3  00024acbcdf0a6daa1e931b038114c75 2018-08-08 10:10:18   \n",
       "4  00042b26cf59d7ce69dfabb4e55b4fd9 2017-02-04 14:10:13   \n",
       "\n",
       "                 customer_unique_id                       customer_id   price  \\\n",
       "0  871766c5855e863f6eccc05f988b23cb  3ce436f183e68e07877b285a838db11a   58.90   \n",
       "1  eb28e67c4c0b83846050ddfb8a35d051  f6dd3ec061db4e3987629fe6b26e5cce  239.90   \n",
       "2  3818d81c6709e39d06b2738a8d3a2474  6489ae5e4333f3693df5ad4372dab6d3  199.00   \n",
       "3  af861d436cfc08b2c2ddefd0ba074622  d4eb9395c8c0431ee92fce09860c5a06   12.99   \n",
       "4  64b576fb70d441e8f1b2d7d446e483c5  58dbd0b2d70206bf40e62cd34e84d795  199.90   \n",
       "\n",
       "   days_since_order  \n",
       "0               355  \n",
       "1               495  \n",
       "2               232  \n",
       "3                26  \n",
       "4               576  "
      ]
     },
     "execution_count": 140,
     "metadata": {},
     "output_type": "execute_result"
    }
   ],
   "source": [
    "df.head()\n"
   ]
  },
  {
   "cell_type": "code",
   "execution_count": 141,
   "metadata": {},
   "outputs": [
    {
     "data": {
      "text/html": [
       "<div>\n",
       "<style scoped>\n",
       "    .dataframe tbody tr th:only-of-type {\n",
       "        vertical-align: middle;\n",
       "    }\n",
       "\n",
       "    .dataframe tbody tr th {\n",
       "        vertical-align: top;\n",
       "    }\n",
       "\n",
       "    .dataframe thead th {\n",
       "        text-align: right;\n",
       "    }\n",
       "</style>\n",
       "<table border=\"1\" class=\"dataframe\">\n",
       "  <thead>\n",
       "    <tr style=\"text-align: right;\">\n",
       "      <th></th>\n",
       "      <th>customer_unique_id</th>\n",
       "      <th>recency</th>\n",
       "      <th>frequency</th>\n",
       "      <th>monetary</th>\n",
       "    </tr>\n",
       "  </thead>\n",
       "  <tbody>\n",
       "    <tr>\n",
       "      <th>0</th>\n",
       "      <td>0000366f3b9a7992bf8c76cfdf3221e2</td>\n",
       "      <td>116</td>\n",
       "      <td>1</td>\n",
       "      <td>129.90</td>\n",
       "    </tr>\n",
       "    <tr>\n",
       "      <th>1</th>\n",
       "      <td>0000b849f77a49e4a4ce2b2a4ca5be3f</td>\n",
       "      <td>118</td>\n",
       "      <td>1</td>\n",
       "      <td>18.90</td>\n",
       "    </tr>\n",
       "    <tr>\n",
       "      <th>2</th>\n",
       "      <td>0000f46a3911fa3c0805444483337064</td>\n",
       "      <td>541</td>\n",
       "      <td>1</td>\n",
       "      <td>69.00</td>\n",
       "    </tr>\n",
       "    <tr>\n",
       "      <th>3</th>\n",
       "      <td>0000f6ccb0745a6a4b88665a16c9f078</td>\n",
       "      <td>325</td>\n",
       "      <td>1</td>\n",
       "      <td>25.99</td>\n",
       "    </tr>\n",
       "    <tr>\n",
       "      <th>4</th>\n",
       "      <td>0004aac84e0df4da2b147fca70cf8255</td>\n",
       "      <td>292</td>\n",
       "      <td>1</td>\n",
       "      <td>180.00</td>\n",
       "    </tr>\n",
       "  </tbody>\n",
       "</table>\n",
       "</div>"
      ],
      "text/plain": [
       "                 customer_unique_id  recency  frequency  monetary\n",
       "0  0000366f3b9a7992bf8c76cfdf3221e2      116          1    129.90\n",
       "1  0000b849f77a49e4a4ce2b2a4ca5be3f      118          1     18.90\n",
       "2  0000f46a3911fa3c0805444483337064      541          1     69.00\n",
       "3  0000f6ccb0745a6a4b88665a16c9f078      325          1     25.99\n",
       "4  0004aac84e0df4da2b147fca70cf8255      292          1    180.00"
      ]
     },
     "execution_count": 141,
     "metadata": {},
     "output_type": "execute_result"
    }
   ],
   "source": [
    "rfm = df.groupby('customer_unique_id', as_index=False) \\\n",
    "                    .agg({'days_since_order': 'min',\n",
    "                          'customer_id': 'count',\n",
    "                          'price': 'sum'}) \\\n",
    "                    .rename(columns={'days_since_order': 'recency',\n",
    "                                     'customer_id': 'frequency',\n",
    "                                     'price': 'monetary'})\n",
    "rfm.head()"
   ]
  },
  {
   "cell_type": "code",
   "execution_count": 142,
   "metadata": {},
   "outputs": [
    {
     "name": "stderr",
     "output_type": "stream",
     "text": [
      "/opt/tljh/user/lib/python3.7/site-packages/seaborn/distributions.py:2557: FutureWarning: `distplot` is a deprecated function and will be removed in a future version. Please adapt your code to use either `displot` (a figure-level function with similar flexibility) or `histplot` (an axes-level function for histograms).\n",
      "  warnings.warn(msg, FutureWarning)\n"
     ]
    },
    {
     "data": {
      "text/plain": [
       "<matplotlib.axes._subplots.AxesSubplot at 0x7fcc5fd68860>"
      ]
     },
     "execution_count": 142,
     "metadata": {},
     "output_type": "execute_result"
    },
    {
     "data": {
      "image/png": "[encoded data removed]",
      "text/plain": [
       "<Figure size 1440x504 with 1 Axes>"
      ]
     },
     "metadata": {},
     "output_type": "display_data"
    }
   ],
   "source": [
    "sns.distplot(rfm.recency, kde=False)"
   ]
  },
  {
   "cell_type": "code",
   "execution_count": 143,
   "metadata": {},
   "outputs": [
    {
     "data": {
      "text/plain": [
       "0.098     45.0\n",
       "0.187     90.0\n",
       "0.252    120.0\n",
       "0.395    180.0\n",
       "0.900    472.0\n",
       "0.950    526.0\n",
       "Name: recency, dtype: float64"
      ]
     },
     "execution_count": 143,
     "metadata": {},
     "output_type": "execute_result"
    }
   ],
   "source": [
    "# 20-й, 40-й, 60-й и 80-й квантили параметра \"recency\"\n",
    "\n",
    "rfm.recency.quantile([.098, .187, .252, .395, 0.9, 0.95])"
   ]
  },
  {
   "cell_type": "code",
   "execution_count": 144,
   "metadata": {},
   "outputs": [
    {
     "data": {
      "text/plain": [
       "1     93049\n",
       "2      2708\n",
       "3       191\n",
       "4        30\n",
       "5         8\n",
       "6         6\n",
       "7         3\n",
       "17        1\n",
       "9         1\n",
       "Name: frequency, dtype: int64"
      ]
     },
     "execution_count": 144,
     "metadata": {},
     "output_type": "execute_result"
    }
   ],
   "source": [
    "rfm.frequency.value_counts()"
   ]
  },
  {
   "cell_type": "code",
   "execution_count": 145,
   "metadata": {},
   "outputs": [
    {
     "data": {
      "text/plain": [
       "<matplotlib.axes._subplots.AxesSubplot at 0x7fcc5530aef0>"
      ]
     },
     "execution_count": 145,
     "metadata": {},
     "output_type": "execute_result"
    },
    {
     "data": {
      "image/png": "[encoded data removed]",
      "text/plain": [
       "<Figure size 1440x504 with 1 Axes>"
      ]
     },
     "metadata": {},
     "output_type": "display_data"
    }
   ],
   "source": [
    "sns.set_theme(style=\"ticks\")\n",
    "sns.distplot(rfm.frequency, kde=False, bins=30)"
   ]
  },
  {
   "cell_type": "code",
   "execution_count": 146,
   "metadata": {},
   "outputs": [
    {
     "name": "stderr",
     "output_type": "stream",
     "text": [
      "/opt/tljh/user/lib/python3.7/site-packages/seaborn/distributions.py:2557: FutureWarning: `distplot` is a deprecated function and will be removed in a future version. Please adapt your code to use either `displot` (a figure-level function with similar flexibility) or `histplot` (an axes-level function for histograms).\n",
      "  warnings.warn(msg, FutureWarning)\n"
     ]
    },
    {
     "data": {
      "text/plain": [
       "<matplotlib.axes._subplots.AxesSubplot at 0x7fcc55253ef0>"
      ]
     },
     "execution_count": 146,
     "metadata": {},
     "output_type": "execute_result"
    },
    {
     "data": {
      "image/png": "[encoded data removed]",
      "text/plain": [
       "<Figure size 1440x504 with 1 Axes>"
      ]
     },
     "metadata": {},
     "output_type": "display_data"
    }
   ],
   "source": [
    "sns.distplot(rfm[rfm.monetary < 1500].monetary, kde=False)"
   ]
  },
  {
   "cell_type": "code",
   "execution_count": 147,
   "metadata": {},
   "outputs": [
    {
     "data": {
      "text/plain": [
       "0.100     25.0\n",
       "0.295     50.0\n",
       "0.575    100.0\n",
       "0.882    250.0\n",
       "Name: monetary, dtype: float64"
      ]
     },
     "execution_count": 147,
     "metadata": {},
     "output_type": "execute_result"
    }
   ],
   "source": [
    "rfm.monetary.quantile([.1, .295, .575, .882 ])"
   ]
  },
  {
   "cell_type": "markdown",
   "metadata": {},
   "source": [
    "Квантили:\n",
    "\n",
    "Recency можно сделать следующим образом:\n",
    "\n",
    "До 45 дней - 5\n",
    "\n",
    "От 45-90 дней - 4\n",
    "\n",
    "От 90-120 - 3 \n",
    "\n",
    "До 120-180 - 2 \n",
    "\n",
    "Все остальное - 1\n",
    "\n",
    "Monetary, давайте будем считать сумму покупок в долларовой валюте, так как большинство заказов находится в пределах 100:\n",
    "\n",
    "1 - до 20$\n",
    "\n",
    "2 - 20-50$\n",
    "\n",
    "3 - 50-100$ \n",
    "\n",
    "4 - 100-250$\n",
    "\n",
    "5 - свыше 250$\n",
    "\n",
    "Frequency, большинство клиентов заказывало только по одному разу, поэтому будем присваивать также.\n",
    "\n",
    "1 заказ - 1 \n",
    "\n",
    "2 заказа - 2 \n",
    "\n",
    "итд..\n",
    "\n",
    "5 - свыше четырех заказов"
   ]
  },
  {
   "cell_type": "code",
   "execution_count": 148,
   "metadata": {},
   "outputs": [],
   "source": [
    "quintiles = dict()"
   ]
  },
  {
   "cell_type": "code",
   "execution_count": 149,
   "metadata": {},
   "outputs": [
    {
     "data": {
      "text/plain": [
       "{'recency': {0.098: 45.0,\n",
       "  0.187: 90.0,\n",
       "  0.252: 120.0,\n",
       "  0.395: 180.0,\n",
       "  0.9: 472.0,\n",
       "  0.95: 526.0},\n",
       " 'monetary': {0.1: 25.0, 0.295: 50.0, 0.575: 100.0, 0.882: 250.0}}"
      ]
     },
     "execution_count": 149,
     "metadata": {},
     "output_type": "execute_result"
    }
   ],
   "source": [
    "quintiles['recency'] = rfm['recency'].quantile([.098, .187, .252, .395, 0.9, 0.95]).to_dict()\n",
    "quintiles['monetary'] = rfm['monetary'].quantile([.1, .295, .575, .882 ]).to_dict()\n",
    "\n",
    "quintiles"
   ]
  },
  {
   "cell_type": "code",
   "execution_count": 150,
   "metadata": {},
   "outputs": [
    {
     "data": {
      "text/plain": [
       "0.100     25.0\n",
       "0.295     50.0\n",
       "0.575    100.0\n",
       "0.882    250.0\n",
       "Name: monetary, dtype: float64"
      ]
     },
     "execution_count": 150,
     "metadata": {},
     "output_type": "execute_result"
    }
   ],
   "source": [
    "rfm.recency.quantile([.098, .187, .252, .395, 0.9, 0.95])\n",
    "rfm.monetary.quantile([.1, .295, .575, .882 ])"
   ]
  },
  {
   "cell_type": "code",
   "execution_count": 151,
   "metadata": {},
   "outputs": [],
   "source": [
    "def r_score(x):\n",
    "    if x <= quintiles['recency'][.098]:\n",
    "        return 5\n",
    "    elif x <= quintiles['recency'][.187]:\n",
    "        return 4\n",
    "    elif x <= quintiles['recency'][.252]:\n",
    "        return 3\n",
    "    elif x <= quintiles['recency'][.395]:\n",
    "        return 2\n",
    "    else:\n",
    "        return 1\n",
    "\n",
    "def m_score(x):\n",
    "    if x <= quintiles['monetary'][.1]:\n",
    "        return 1\n",
    "    elif x <= quintiles['monetary'][.295]:\n",
    "        return 2\n",
    "    elif x <= quintiles['monetary'][.575]:\n",
    "        return 3\n",
    "    elif x <= quintiles['monetary'][.882]:\n",
    "        return 4\n",
    "    else:\n",
    "        return 5    \n",
    "    \n",
    "def f_score(x):\n",
    "    if x == 1:\n",
    "        return 1\n",
    "    elif x == 2:\n",
    "        return 2\n",
    "    elif x ==3:\n",
    "        return 3\n",
    "    elif x == 4:\n",
    "        return 4\n",
    "    else:\n",
    "        return 5"
   ]
  },
  {
   "cell_type": "code",
   "execution_count": 152,
   "metadata": {},
   "outputs": [
    {
     "data": {
      "text/html": [
       "<div>\n",
       "<style scoped>\n",
       "    .dataframe tbody tr th:only-of-type {\n",
       "        vertical-align: middle;\n",
       "    }\n",
       "\n",
       "    .dataframe tbody tr th {\n",
       "        vertical-align: top;\n",
       "    }\n",
       "\n",
       "    .dataframe thead th {\n",
       "        text-align: right;\n",
       "    }\n",
       "</style>\n",
       "<table border=\"1\" class=\"dataframe\">\n",
       "  <thead>\n",
       "    <tr style=\"text-align: right;\">\n",
       "      <th></th>\n",
       "      <th>customer_unique_id</th>\n",
       "      <th>recency</th>\n",
       "      <th>frequency</th>\n",
       "      <th>monetary</th>\n",
       "      <th>R</th>\n",
       "      <th>F</th>\n",
       "      <th>M</th>\n",
       "      <th>RFM_Score</th>\n",
       "    </tr>\n",
       "  </thead>\n",
       "  <tbody>\n",
       "    <tr>\n",
       "      <th>0</th>\n",
       "      <td>0000366f3b9a7992bf8c76cfdf3221e2</td>\n",
       "      <td>116</td>\n",
       "      <td>1</td>\n",
       "      <td>129.90</td>\n",
       "      <td>3</td>\n",
       "      <td>1</td>\n",
       "      <td>4</td>\n",
       "      <td>314</td>\n",
       "    </tr>\n",
       "    <tr>\n",
       "      <th>1</th>\n",
       "      <td>0000b849f77a49e4a4ce2b2a4ca5be3f</td>\n",
       "      <td>118</td>\n",
       "      <td>1</td>\n",
       "      <td>18.90</td>\n",
       "      <td>3</td>\n",
       "      <td>1</td>\n",
       "      <td>1</td>\n",
       "      <td>311</td>\n",
       "    </tr>\n",
       "    <tr>\n",
       "      <th>2</th>\n",
       "      <td>0000f46a3911fa3c0805444483337064</td>\n",
       "      <td>541</td>\n",
       "      <td>1</td>\n",
       "      <td>69.00</td>\n",
       "      <td>1</td>\n",
       "      <td>1</td>\n",
       "      <td>3</td>\n",
       "      <td>113</td>\n",
       "    </tr>\n",
       "    <tr>\n",
       "      <th>3</th>\n",
       "      <td>0000f6ccb0745a6a4b88665a16c9f078</td>\n",
       "      <td>325</td>\n",
       "      <td>1</td>\n",
       "      <td>25.99</td>\n",
       "      <td>1</td>\n",
       "      <td>1</td>\n",
       "      <td>2</td>\n",
       "      <td>112</td>\n",
       "    </tr>\n",
       "    <tr>\n",
       "      <th>4</th>\n",
       "      <td>0004aac84e0df4da2b147fca70cf8255</td>\n",
       "      <td>292</td>\n",
       "      <td>1</td>\n",
       "      <td>180.00</td>\n",
       "      <td>1</td>\n",
       "      <td>1</td>\n",
       "      <td>4</td>\n",
       "      <td>114</td>\n",
       "    </tr>\n",
       "  </tbody>\n",
       "</table>\n",
       "</div>"
      ],
      "text/plain": [
       "                 customer_unique_id  recency  frequency  monetary  R  F  M  \\\n",
       "0  0000366f3b9a7992bf8c76cfdf3221e2      116          1    129.90  3  1  4   \n",
       "1  0000b849f77a49e4a4ce2b2a4ca5be3f      118          1     18.90  3  1  1   \n",
       "2  0000f46a3911fa3c0805444483337064      541          1     69.00  1  1  3   \n",
       "3  0000f6ccb0745a6a4b88665a16c9f078      325          1     25.99  1  1  2   \n",
       "4  0004aac84e0df4da2b147fca70cf8255      292          1    180.00  1  1  4   \n",
       "\n",
       "  RFM_Score  \n",
       "0       314  \n",
       "1       311  \n",
       "2       113  \n",
       "3       112  \n",
       "4       114  "
      ]
     },
     "execution_count": 152,
     "metadata": {},
     "output_type": "execute_result"
    }
   ],
   "source": [
    "rfm['R'] = rfm['recency'].apply(lambda x: r_score(x))\n",
    "rfm['F'] = rfm['frequency'].apply(lambda x: f_score(x))\n",
    "rfm['M'] = rfm['monetary'].apply(lambda x: m_score(x))\n",
    "\n",
    "rfm['RFM_Score'] = rfm['R'].map(str) + rfm['F'].map(str) + rfm['M'].map(str)\n",
    "\n",
    "rfm.head()"
   ]
  },
  {
   "cell_type": "code",
   "execution_count": 153,
   "metadata": {},
   "outputs": [
    {
     "data": {
      "text/html": [
       "<div>\n",
       "<style scoped>\n",
       "    .dataframe tbody tr th:only-of-type {\n",
       "        vertical-align: middle;\n",
       "    }\n",
       "\n",
       "    .dataframe tbody tr th {\n",
       "        vertical-align: top;\n",
       "    }\n",
       "\n",
       "    .dataframe thead th {\n",
       "        text-align: right;\n",
       "    }\n",
       "</style>\n",
       "<table border=\"1\" class=\"dataframe\">\n",
       "  <thead>\n",
       "    <tr style=\"text-align: right;\">\n",
       "      <th></th>\n",
       "      <th>RFM_Score</th>\n",
       "      <th>customer_unique_id</th>\n",
       "      <th>share</th>\n",
       "    </tr>\n",
       "  </thead>\n",
       "  <tbody>\n",
       "    <tr>\n",
       "      <th>3</th>\n",
       "      <td>114</td>\n",
       "      <td>16511</td>\n",
       "      <td>17.20</td>\n",
       "    </tr>\n",
       "    <tr>\n",
       "      <th>2</th>\n",
       "      <td>113</td>\n",
       "      <td>16278</td>\n",
       "      <td>16.96</td>\n",
       "    </tr>\n",
       "    <tr>\n",
       "      <th>1</th>\n",
       "      <td>112</td>\n",
       "      <td>11170</td>\n",
       "      <td>11.64</td>\n",
       "    </tr>\n",
       "    <tr>\n",
       "      <th>0</th>\n",
       "      <td>111</td>\n",
       "      <td>6228</td>\n",
       "      <td>6.49</td>\n",
       "    </tr>\n",
       "    <tr>\n",
       "      <th>4</th>\n",
       "      <td>115</td>\n",
       "      <td>6187</td>\n",
       "      <td>6.44</td>\n",
       "    </tr>\n",
       "    <tr>\n",
       "      <th>23</th>\n",
       "      <td>214</td>\n",
       "      <td>4271</td>\n",
       "      <td>4.45</td>\n",
       "    </tr>\n",
       "    <tr>\n",
       "      <th>22</th>\n",
       "      <td>213</td>\n",
       "      <td>3602</td>\n",
       "      <td>3.75</td>\n",
       "    </tr>\n",
       "    <tr>\n",
       "      <th>67</th>\n",
       "      <td>514</td>\n",
       "      <td>2833</td>\n",
       "      <td>2.95</td>\n",
       "    </tr>\n",
       "    <tr>\n",
       "      <th>53</th>\n",
       "      <td>414</td>\n",
       "      <td>2724</td>\n",
       "      <td>2.84</td>\n",
       "    </tr>\n",
       "    <tr>\n",
       "      <th>21</th>\n",
       "      <td>212</td>\n",
       "      <td>2566</td>\n",
       "      <td>2.67</td>\n",
       "    </tr>\n",
       "  </tbody>\n",
       "</table>\n",
       "</div>"
      ],
      "text/plain": [
       "   RFM_Score  customer_unique_id  share\n",
       "3        114               16511  17.20\n",
       "2        113               16278  16.96\n",
       "1        112               11170  11.64\n",
       "0        111                6228   6.49\n",
       "4        115                6187   6.44\n",
       "23       214                4271   4.45\n",
       "22       213                3602   3.75\n",
       "67       514                2833   2.95\n",
       "53       414                2724   2.84\n",
       "21       212                2566   2.67"
      ]
     },
     "execution_count": 153,
     "metadata": {},
     "output_type": "execute_result"
    }
   ],
   "source": [
    "rfm_count = rfm.groupby('RFM_Score', as_index=False).agg({'customer_unique_id':'count'})\n",
    "rfm_count['share'] = (rfm_count.customer_unique_id / rfm_count.customer_unique_id.sum()*100).round(2)\n",
    "rfm_count = rfm_count.sort_values('share',ascending=False)\n",
    "\n",
    "rfm_count.head(10)"
   ]
  },
  {
   "cell_type": "code",
   "execution_count": 154,
   "metadata": {},
   "outputs": [
    {
     "data": {
      "text/html": [
       "<div>\n",
       "<style scoped>\n",
       "    .dataframe tbody tr th:only-of-type {\n",
       "        vertical-align: middle;\n",
       "    }\n",
       "\n",
       "    .dataframe tbody tr th {\n",
       "        vertical-align: top;\n",
       "    }\n",
       "\n",
       "    .dataframe thead th {\n",
       "        text-align: right;\n",
       "    }\n",
       "</style>\n",
       "<table border=\"1\" class=\"dataframe\">\n",
       "  <thead>\n",
       "    <tr style=\"text-align: right;\">\n",
       "      <th></th>\n",
       "      <th>customer_unique_id</th>\n",
       "      <th>recency</th>\n",
       "      <th>frequency</th>\n",
       "      <th>monetary</th>\n",
       "      <th>R</th>\n",
       "      <th>F</th>\n",
       "      <th>M</th>\n",
       "      <th>RFM_Score</th>\n",
       "      <th>Segment</th>\n",
       "    </tr>\n",
       "  </thead>\n",
       "  <tbody>\n",
       "    <tr>\n",
       "      <th>0</th>\n",
       "      <td>0000366f3b9a7992bf8c76cfdf3221e2</td>\n",
       "      <td>116</td>\n",
       "      <td>1</td>\n",
       "      <td>129.90</td>\n",
       "      <td>3</td>\n",
       "      <td>1</td>\n",
       "      <td>4</td>\n",
       "      <td>314</td>\n",
       "      <td>about to sleep</td>\n",
       "    </tr>\n",
       "    <tr>\n",
       "      <th>1</th>\n",
       "      <td>0000b849f77a49e4a4ce2b2a4ca5be3f</td>\n",
       "      <td>118</td>\n",
       "      <td>1</td>\n",
       "      <td>18.90</td>\n",
       "      <td>3</td>\n",
       "      <td>1</td>\n",
       "      <td>1</td>\n",
       "      <td>311</td>\n",
       "      <td>about to sleep</td>\n",
       "    </tr>\n",
       "    <tr>\n",
       "      <th>2</th>\n",
       "      <td>0000f46a3911fa3c0805444483337064</td>\n",
       "      <td>541</td>\n",
       "      <td>1</td>\n",
       "      <td>69.00</td>\n",
       "      <td>1</td>\n",
       "      <td>1</td>\n",
       "      <td>3</td>\n",
       "      <td>113</td>\n",
       "      <td>hibernating</td>\n",
       "    </tr>\n",
       "    <tr>\n",
       "      <th>3</th>\n",
       "      <td>0000f6ccb0745a6a4b88665a16c9f078</td>\n",
       "      <td>325</td>\n",
       "      <td>1</td>\n",
       "      <td>25.99</td>\n",
       "      <td>1</td>\n",
       "      <td>1</td>\n",
       "      <td>2</td>\n",
       "      <td>112</td>\n",
       "      <td>hibernating</td>\n",
       "    </tr>\n",
       "    <tr>\n",
       "      <th>4</th>\n",
       "      <td>0004aac84e0df4da2b147fca70cf8255</td>\n",
       "      <td>292</td>\n",
       "      <td>1</td>\n",
       "      <td>180.00</td>\n",
       "      <td>1</td>\n",
       "      <td>1</td>\n",
       "      <td>4</td>\n",
       "      <td>114</td>\n",
       "      <td>hibernating</td>\n",
       "    </tr>\n",
       "  </tbody>\n",
       "</table>\n",
       "</div>"
      ],
      "text/plain": [
       "                 customer_unique_id  recency  frequency  monetary  R  F  M  \\\n",
       "0  0000366f3b9a7992bf8c76cfdf3221e2      116          1    129.90  3  1  4   \n",
       "1  0000b849f77a49e4a4ce2b2a4ca5be3f      118          1     18.90  3  1  1   \n",
       "2  0000f46a3911fa3c0805444483337064      541          1     69.00  1  1  3   \n",
       "3  0000f6ccb0745a6a4b88665a16c9f078      325          1     25.99  1  1  2   \n",
       "4  0004aac84e0df4da2b147fca70cf8255      292          1    180.00  1  1  4   \n",
       "\n",
       "  RFM_Score         Segment  \n",
       "0       314  about to sleep  \n",
       "1       311  about to sleep  \n",
       "2       113     hibernating  \n",
       "3       112     hibernating  \n",
       "4       114     hibernating  "
      ]
     },
     "execution_count": 154,
     "metadata": {},
     "output_type": "execute_result"
    }
   ],
   "source": [
    "segt_map = {\n",
    "    r'[1-2][1-2]': 'hibernating',\n",
    "    r'[1-2][3-4]': 'at risk',\n",
    "    r'[1-2]5': 'can\\'t loose',\n",
    "    r'3[1-2]': 'about to sleep',\n",
    "    r'33': 'need attention',\n",
    "    r'[3-4][4-5]': 'loyal customers',\n",
    "    r'41': 'promising',\n",
    "    r'51': 'new customers',\n",
    "    r'[4-5][2-3]': 'potential loyalists',\n",
    "    r'5[4-5]': 'champions'\n",
    "}\n",
    "\n",
    "rfm['Segment'] = rfm['R'].map(str) + rfm['F'].map(str)\n",
    "rfm['Segment'] = rfm['Segment'].replace(segt_map, regex=True)\n",
    "rfm.head()"
   ]
  },
  {
   "cell_type": "code",
   "execution_count": 155,
   "metadata": {},
   "outputs": [
    {
     "data": {
      "image/png": "[encoded data removed]",
      "text/plain": [
       "<Figure size 1440x504 with 1 Axes>"
      ]
     },
     "metadata": {},
     "output_type": "display_data"
    }
   ],
   "source": [
    "# count the number of customers in each segment\n",
    "segments_counts = rfm['Segment'].value_counts().sort_values(ascending=True)\n",
    "\n",
    "fig, ax = plt.subplots()\n",
    "\n",
    "bars = ax.barh(range(len(segments_counts)),\n",
    "              segments_counts,\n",
    "              color='silver')\n",
    "ax.set_frame_on(False)\n",
    "ax.tick_params(left=False,\n",
    "               bottom=False,\n",
    "               labelbottom=False)\n",
    "ax.set_yticks(range(len(segments_counts)))\n",
    "ax.set_yticklabels(segments_counts.index)\n",
    "\n",
    "for i, bar in enumerate(bars):\n",
    "        value = bar.get_width()\n",
    "        if segments_counts.index[i] in ['champions', 'loyal customers']:\n",
    "            bar.set_color('firebrick')\n",
    "        ax.text(value,\n",
    "                bar.get_y() + bar.get_height()/2,\n",
    "                '{:,} ({:}%)'.format(int(value),\n",
    "                                   int(value*100/segments_counts.sum())),\n",
    "                va='center',\n",
    "                ha='left'\n",
    "               )\n",
    "\n",
    "plt.show()"
   ]
  },
  {
   "cell_type": "markdown",
   "metadata": {},
   "source": [
    "Как видно из графика RFM наибольшая часть наших клиентов это hibernating около 71%, что является очень удручающим моментом из нашего анализа. Практически большинство наших клиентов не конвертятся на вторую или последующую покупку.\n",
    "\n",
    "Таким образом следует уделить большой акцент на Retention и удержание клиента.\n",
    "\n",
    "Инструментами для этого могут послужить:\n",
    "\n",
    "1) Персональные скидки.\n",
    "\n",
    "2) Рассылки, push-уведомления\n",
    "\n",
    "3) Расширение товарного ассортимента\n",
    "\n",
    "и.т.п.\n",
    "\n",
    "Также у нас имеется небольшое количество новых и многообещаюших клиентов, следует обратить на них внимание."
   ]
  },
  {
   "cell_type": "markdown",
   "metadata": {},
   "source": [
    "## Спасибо за уделенное время!"
   ]
  },
  {
   "cell_type": "code",
   "execution_count": null,
   "metadata": {},
   "outputs": [],
   "source": []
  }
 ],
 "metadata": {
  "kernelspec": {
   "display_name": "Python 3",
   "language": "python",
   "name": "python3"
  },
  "language_info": {
   "codemirror_mode": {
    "name": "ipython",
    "version": 3
   },
   "file_extension": ".py",
   "mimetype": "text/x-python",
   "name": "python",
   "nbconvert_exporter": "python",
   "pygments_lexer": "ipython3",
   "version": "3.7.3"
  }
 },
 "nbformat": 4,
 "nbformat_minor": 4
}
